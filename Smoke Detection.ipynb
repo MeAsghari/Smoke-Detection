{
 "cells": [
  {
   "cell_type": "markdown",
   "id": "d309d873-6b86-4ba3-8612-894ea731885b",
   "metadata": {
    "jp-MarkdownHeadingCollapsed": true,
    "tags": []
   },
   "source": [
    "## **Import**"
   ]
  },
  {
   "cell_type": "code",
   "execution_count": 1,
   "id": "5df24a4b-7a1d-4c99-af48-a0a458cc6d04",
   "metadata": {
    "tags": []
   },
   "outputs": [],
   "source": [
    "import pandas as pd\n",
    "import numpy as np\n",
    "import matplotlib.pyplot as plt\n",
    "import seaborn as sns\n",
    "from scipy.stats import skew , boxcox\n",
    "\n",
    "from sklearn.model_selection import train_test_split\n",
    "\n",
    "from sklearn.preprocessing import PowerTransformer\n",
    "from sklearn.preprocessing import MinMaxScaler, StandardScaler\n",
    "\n",
    "import  missingno as msno\n",
    "\n",
    "import datetime"
   ]
  },
  {
   "cell_type": "markdown",
   "id": "29685444-d753-4464-a44b-f93598b3f63c",
   "metadata": {
    "jp-MarkdownHeadingCollapsed": true,
    "tags": []
   },
   "source": [
    "## **Hello Data**"
   ]
  },
  {
   "cell_type": "code",
   "execution_count": 2,
   "id": "6667eeb6-a010-4184-aafa-5729ae54e4d6",
   "metadata": {},
   "outputs": [
    {
     "data": {
      "text/html": [
       "<div>\n",
       "<style scoped>\n",
       "    .dataframe tbody tr th:only-of-type {\n",
       "        vertical-align: middle;\n",
       "    }\n",
       "\n",
       "    .dataframe tbody tr th {\n",
       "        vertical-align: top;\n",
       "    }\n",
       "\n",
       "    .dataframe thead th {\n",
       "        text-align: right;\n",
       "    }\n",
       "</style>\n",
       "<table border=\"1\" class=\"dataframe\">\n",
       "  <thead>\n",
       "    <tr style=\"text-align: right;\">\n",
       "      <th></th>\n",
       "      <th>Unnamed: 0</th>\n",
       "      <th>UTC</th>\n",
       "      <th>Temperature[C]</th>\n",
       "      <th>Humidity[%]</th>\n",
       "      <th>TVOC[ppb]</th>\n",
       "      <th>eCO2[ppm]</th>\n",
       "      <th>Raw H2</th>\n",
       "      <th>Raw Ethanol</th>\n",
       "      <th>Pressure[hPa]</th>\n",
       "      <th>PM1.0</th>\n",
       "      <th>PM2.5</th>\n",
       "      <th>NC0.5</th>\n",
       "      <th>NC1.0</th>\n",
       "      <th>NC2.5</th>\n",
       "      <th>CNT</th>\n",
       "      <th>Fire Alarm</th>\n",
       "    </tr>\n",
       "  </thead>\n",
       "  <tbody>\n",
       "    <tr>\n",
       "      <th>0</th>\n",
       "      <td>0</td>\n",
       "      <td>1654733331</td>\n",
       "      <td>20.000</td>\n",
       "      <td>57.36</td>\n",
       "      <td>0</td>\n",
       "      <td>400</td>\n",
       "      <td>12306</td>\n",
       "      <td>18520</td>\n",
       "      <td>939.735</td>\n",
       "      <td>0.0</td>\n",
       "      <td>0.0</td>\n",
       "      <td>0.0</td>\n",
       "      <td>0.0</td>\n",
       "      <td>0.0</td>\n",
       "      <td>0</td>\n",
       "      <td>0</td>\n",
       "    </tr>\n",
       "    <tr>\n",
       "      <th>1</th>\n",
       "      <td>1</td>\n",
       "      <td>1654733332</td>\n",
       "      <td>20.015</td>\n",
       "      <td>56.67</td>\n",
       "      <td>0</td>\n",
       "      <td>400</td>\n",
       "      <td>12345</td>\n",
       "      <td>18651</td>\n",
       "      <td>939.744</td>\n",
       "      <td>0.0</td>\n",
       "      <td>0.0</td>\n",
       "      <td>0.0</td>\n",
       "      <td>0.0</td>\n",
       "      <td>0.0</td>\n",
       "      <td>1</td>\n",
       "      <td>0</td>\n",
       "    </tr>\n",
       "    <tr>\n",
       "      <th>2</th>\n",
       "      <td>2</td>\n",
       "      <td>1654733333</td>\n",
       "      <td>20.029</td>\n",
       "      <td>55.96</td>\n",
       "      <td>0</td>\n",
       "      <td>400</td>\n",
       "      <td>12374</td>\n",
       "      <td>18764</td>\n",
       "      <td>939.738</td>\n",
       "      <td>0.0</td>\n",
       "      <td>0.0</td>\n",
       "      <td>0.0</td>\n",
       "      <td>0.0</td>\n",
       "      <td>0.0</td>\n",
       "      <td>2</td>\n",
       "      <td>0</td>\n",
       "    </tr>\n",
       "    <tr>\n",
       "      <th>3</th>\n",
       "      <td>3</td>\n",
       "      <td>1654733334</td>\n",
       "      <td>20.044</td>\n",
       "      <td>55.28</td>\n",
       "      <td>0</td>\n",
       "      <td>400</td>\n",
       "      <td>12390</td>\n",
       "      <td>18849</td>\n",
       "      <td>939.736</td>\n",
       "      <td>0.0</td>\n",
       "      <td>0.0</td>\n",
       "      <td>0.0</td>\n",
       "      <td>0.0</td>\n",
       "      <td>0.0</td>\n",
       "      <td>3</td>\n",
       "      <td>0</td>\n",
       "    </tr>\n",
       "    <tr>\n",
       "      <th>4</th>\n",
       "      <td>4</td>\n",
       "      <td>1654733335</td>\n",
       "      <td>20.059</td>\n",
       "      <td>54.69</td>\n",
       "      <td>0</td>\n",
       "      <td>400</td>\n",
       "      <td>12403</td>\n",
       "      <td>18921</td>\n",
       "      <td>939.744</td>\n",
       "      <td>0.0</td>\n",
       "      <td>0.0</td>\n",
       "      <td>0.0</td>\n",
       "      <td>0.0</td>\n",
       "      <td>0.0</td>\n",
       "      <td>4</td>\n",
       "      <td>0</td>\n",
       "    </tr>\n",
       "  </tbody>\n",
       "</table>\n",
       "</div>"
      ],
      "text/plain": [
       "   Unnamed: 0         UTC  Temperature[C]  Humidity[%]  TVOC[ppb]  eCO2[ppm]  \\\n",
       "0           0  1654733331          20.000        57.36          0        400   \n",
       "1           1  1654733332          20.015        56.67          0        400   \n",
       "2           2  1654733333          20.029        55.96          0        400   \n",
       "3           3  1654733334          20.044        55.28          0        400   \n",
       "4           4  1654733335          20.059        54.69          0        400   \n",
       "\n",
       "   Raw H2  Raw Ethanol  Pressure[hPa]  PM1.0  PM2.5  NC0.5  NC1.0  NC2.5  CNT  \\\n",
       "0   12306        18520        939.735    0.0    0.0    0.0    0.0    0.0    0   \n",
       "1   12345        18651        939.744    0.0    0.0    0.0    0.0    0.0    1   \n",
       "2   12374        18764        939.738    0.0    0.0    0.0    0.0    0.0    2   \n",
       "3   12390        18849        939.736    0.0    0.0    0.0    0.0    0.0    3   \n",
       "4   12403        18921        939.744    0.0    0.0    0.0    0.0    0.0    4   \n",
       "\n",
       "   Fire Alarm  \n",
       "0           0  \n",
       "1           0  \n",
       "2           0  \n",
       "3           0  \n",
       "4           0  "
      ]
     },
     "execution_count": 2,
     "metadata": {},
     "output_type": "execute_result"
    }
   ],
   "source": [
    "df = pd.read_csv('smoke_detection_iot.csv')\n",
    "df.head()"
   ]
  },
  {
   "cell_type": "code",
   "execution_count": 3,
   "id": "f8be937d-113d-487e-ba36-41685079cac9",
   "metadata": {},
   "outputs": [
    {
     "data": {
      "text/html": [
       "<div>\n",
       "<style scoped>\n",
       "    .dataframe tbody tr th:only-of-type {\n",
       "        vertical-align: middle;\n",
       "    }\n",
       "\n",
       "    .dataframe tbody tr th {\n",
       "        vertical-align: top;\n",
       "    }\n",
       "\n",
       "    .dataframe thead th {\n",
       "        text-align: right;\n",
       "    }\n",
       "</style>\n",
       "<table border=\"1\" class=\"dataframe\">\n",
       "  <thead>\n",
       "    <tr style=\"text-align: right;\">\n",
       "      <th></th>\n",
       "      <th>UTC</th>\n",
       "      <th>Temperature[C]</th>\n",
       "      <th>Humidity[%]</th>\n",
       "      <th>TVOC[ppb]</th>\n",
       "      <th>eCO2[ppm]</th>\n",
       "      <th>Raw H2</th>\n",
       "      <th>Raw Ethanol</th>\n",
       "      <th>Pressure[hPa]</th>\n",
       "      <th>PM1.0</th>\n",
       "      <th>PM2.5</th>\n",
       "      <th>NC0.5</th>\n",
       "      <th>NC1.0</th>\n",
       "      <th>NC2.5</th>\n",
       "      <th>CNT</th>\n",
       "      <th>Fire Alarm</th>\n",
       "    </tr>\n",
       "  </thead>\n",
       "  <tbody>\n",
       "    <tr>\n",
       "      <th>0</th>\n",
       "      <td>1654733331</td>\n",
       "      <td>20.000</td>\n",
       "      <td>57.36</td>\n",
       "      <td>0</td>\n",
       "      <td>400</td>\n",
       "      <td>12306</td>\n",
       "      <td>18520</td>\n",
       "      <td>939.735</td>\n",
       "      <td>0.0</td>\n",
       "      <td>0.0</td>\n",
       "      <td>0.0</td>\n",
       "      <td>0.0</td>\n",
       "      <td>0.0</td>\n",
       "      <td>0</td>\n",
       "      <td>0</td>\n",
       "    </tr>\n",
       "    <tr>\n",
       "      <th>1</th>\n",
       "      <td>1654733332</td>\n",
       "      <td>20.015</td>\n",
       "      <td>56.67</td>\n",
       "      <td>0</td>\n",
       "      <td>400</td>\n",
       "      <td>12345</td>\n",
       "      <td>18651</td>\n",
       "      <td>939.744</td>\n",
       "      <td>0.0</td>\n",
       "      <td>0.0</td>\n",
       "      <td>0.0</td>\n",
       "      <td>0.0</td>\n",
       "      <td>0.0</td>\n",
       "      <td>1</td>\n",
       "      <td>0</td>\n",
       "    </tr>\n",
       "    <tr>\n",
       "      <th>2</th>\n",
       "      <td>1654733333</td>\n",
       "      <td>20.029</td>\n",
       "      <td>55.96</td>\n",
       "      <td>0</td>\n",
       "      <td>400</td>\n",
       "      <td>12374</td>\n",
       "      <td>18764</td>\n",
       "      <td>939.738</td>\n",
       "      <td>0.0</td>\n",
       "      <td>0.0</td>\n",
       "      <td>0.0</td>\n",
       "      <td>0.0</td>\n",
       "      <td>0.0</td>\n",
       "      <td>2</td>\n",
       "      <td>0</td>\n",
       "    </tr>\n",
       "    <tr>\n",
       "      <th>3</th>\n",
       "      <td>1654733334</td>\n",
       "      <td>20.044</td>\n",
       "      <td>55.28</td>\n",
       "      <td>0</td>\n",
       "      <td>400</td>\n",
       "      <td>12390</td>\n",
       "      <td>18849</td>\n",
       "      <td>939.736</td>\n",
       "      <td>0.0</td>\n",
       "      <td>0.0</td>\n",
       "      <td>0.0</td>\n",
       "      <td>0.0</td>\n",
       "      <td>0.0</td>\n",
       "      <td>3</td>\n",
       "      <td>0</td>\n",
       "    </tr>\n",
       "    <tr>\n",
       "      <th>4</th>\n",
       "      <td>1654733335</td>\n",
       "      <td>20.059</td>\n",
       "      <td>54.69</td>\n",
       "      <td>0</td>\n",
       "      <td>400</td>\n",
       "      <td>12403</td>\n",
       "      <td>18921</td>\n",
       "      <td>939.744</td>\n",
       "      <td>0.0</td>\n",
       "      <td>0.0</td>\n",
       "      <td>0.0</td>\n",
       "      <td>0.0</td>\n",
       "      <td>0.0</td>\n",
       "      <td>4</td>\n",
       "      <td>0</td>\n",
       "    </tr>\n",
       "  </tbody>\n",
       "</table>\n",
       "</div>"
      ],
      "text/plain": [
       "          UTC  Temperature[C]  Humidity[%]  TVOC[ppb]  eCO2[ppm]  Raw H2  \\\n",
       "0  1654733331          20.000        57.36          0        400   12306   \n",
       "1  1654733332          20.015        56.67          0        400   12345   \n",
       "2  1654733333          20.029        55.96          0        400   12374   \n",
       "3  1654733334          20.044        55.28          0        400   12390   \n",
       "4  1654733335          20.059        54.69          0        400   12403   \n",
       "\n",
       "   Raw Ethanol  Pressure[hPa]  PM1.0  PM2.5  NC0.5  NC1.0  NC2.5  CNT  \\\n",
       "0        18520        939.735    0.0    0.0    0.0    0.0    0.0    0   \n",
       "1        18651        939.744    0.0    0.0    0.0    0.0    0.0    1   \n",
       "2        18764        939.738    0.0    0.0    0.0    0.0    0.0    2   \n",
       "3        18849        939.736    0.0    0.0    0.0    0.0    0.0    3   \n",
       "4        18921        939.744    0.0    0.0    0.0    0.0    0.0    4   \n",
       "\n",
       "   Fire Alarm  \n",
       "0           0  \n",
       "1           0  \n",
       "2           0  \n",
       "3           0  \n",
       "4           0  "
      ]
     },
     "execution_count": 3,
     "metadata": {},
     "output_type": "execute_result"
    }
   ],
   "source": [
    "df.drop(df.columns[0] ,axis=1 , inplace=True)\n",
    "df.head()"
   ]
  },
  {
   "cell_type": "code",
   "execution_count": 4,
   "id": "dcd6f57f-8339-4e8d-afdb-c215dc41f209",
   "metadata": {},
   "outputs": [
    {
     "data": {
      "text/plain": [
       "(62630, 15)"
      ]
     },
     "execution_count": 4,
     "metadata": {},
     "output_type": "execute_result"
    }
   ],
   "source": [
    "df.shape"
   ]
  },
  {
   "cell_type": "code",
   "execution_count": 5,
   "id": "895511d7-520e-41dd-8f13-721f57627224",
   "metadata": {},
   "outputs": [
    {
     "data": {
      "text/plain": [
       "UTC                 int64\n",
       "Temperature[C]    float64\n",
       "Humidity[%]       float64\n",
       "TVOC[ppb]           int64\n",
       "eCO2[ppm]           int64\n",
       "Raw H2              int64\n",
       "Raw Ethanol         int64\n",
       "Pressure[hPa]     float64\n",
       "PM1.0             float64\n",
       "PM2.5             float64\n",
       "NC0.5             float64\n",
       "NC1.0             float64\n",
       "NC2.5             float64\n",
       "CNT                 int64\n",
       "Fire Alarm          int64\n",
       "dtype: object"
      ]
     },
     "execution_count": 5,
     "metadata": {},
     "output_type": "execute_result"
    }
   ],
   "source": [
    "df.dtypes"
   ]
  },
  {
   "cell_type": "code",
   "execution_count": 6,
   "id": "1e56ce8c-380c-4e99-aca7-eec08f4f6649",
   "metadata": {},
   "outputs": [
    {
     "data": {
      "text/html": [
       "<div>\n",
       "<style scoped>\n",
       "    .dataframe tbody tr th:only-of-type {\n",
       "        vertical-align: middle;\n",
       "    }\n",
       "\n",
       "    .dataframe tbody tr th {\n",
       "        vertical-align: top;\n",
       "    }\n",
       "\n",
       "    .dataframe thead th {\n",
       "        text-align: right;\n",
       "    }\n",
       "</style>\n",
       "<table border=\"1\" class=\"dataframe\">\n",
       "  <thead>\n",
       "    <tr style=\"text-align: right;\">\n",
       "      <th></th>\n",
       "      <th>UTC</th>\n",
       "      <th>Temperature[C]</th>\n",
       "      <th>Humidity[%]</th>\n",
       "      <th>TVOC[ppb]</th>\n",
       "      <th>eCO2[ppm]</th>\n",
       "      <th>Raw_H2</th>\n",
       "      <th>Raw_Ethanol</th>\n",
       "      <th>Pressure[hPa]</th>\n",
       "      <th>PM1.0</th>\n",
       "      <th>PM2.5</th>\n",
       "      <th>NC0.5</th>\n",
       "      <th>NC1.0</th>\n",
       "      <th>NC2.5</th>\n",
       "      <th>CNT</th>\n",
       "      <th>Fire_Alarm</th>\n",
       "    </tr>\n",
       "  </thead>\n",
       "  <tbody>\n",
       "    <tr>\n",
       "      <th>0</th>\n",
       "      <td>1654733331</td>\n",
       "      <td>20.000</td>\n",
       "      <td>57.36</td>\n",
       "      <td>0</td>\n",
       "      <td>400</td>\n",
       "      <td>12306</td>\n",
       "      <td>18520</td>\n",
       "      <td>939.735</td>\n",
       "      <td>0.0</td>\n",
       "      <td>0.0</td>\n",
       "      <td>0.0</td>\n",
       "      <td>0.0</td>\n",
       "      <td>0.0</td>\n",
       "      <td>0</td>\n",
       "      <td>0</td>\n",
       "    </tr>\n",
       "    <tr>\n",
       "      <th>1</th>\n",
       "      <td>1654733332</td>\n",
       "      <td>20.015</td>\n",
       "      <td>56.67</td>\n",
       "      <td>0</td>\n",
       "      <td>400</td>\n",
       "      <td>12345</td>\n",
       "      <td>18651</td>\n",
       "      <td>939.744</td>\n",
       "      <td>0.0</td>\n",
       "      <td>0.0</td>\n",
       "      <td>0.0</td>\n",
       "      <td>0.0</td>\n",
       "      <td>0.0</td>\n",
       "      <td>1</td>\n",
       "      <td>0</td>\n",
       "    </tr>\n",
       "    <tr>\n",
       "      <th>2</th>\n",
       "      <td>1654733333</td>\n",
       "      <td>20.029</td>\n",
       "      <td>55.96</td>\n",
       "      <td>0</td>\n",
       "      <td>400</td>\n",
       "      <td>12374</td>\n",
       "      <td>18764</td>\n",
       "      <td>939.738</td>\n",
       "      <td>0.0</td>\n",
       "      <td>0.0</td>\n",
       "      <td>0.0</td>\n",
       "      <td>0.0</td>\n",
       "      <td>0.0</td>\n",
       "      <td>2</td>\n",
       "      <td>0</td>\n",
       "    </tr>\n",
       "    <tr>\n",
       "      <th>3</th>\n",
       "      <td>1654733334</td>\n",
       "      <td>20.044</td>\n",
       "      <td>55.28</td>\n",
       "      <td>0</td>\n",
       "      <td>400</td>\n",
       "      <td>12390</td>\n",
       "      <td>18849</td>\n",
       "      <td>939.736</td>\n",
       "      <td>0.0</td>\n",
       "      <td>0.0</td>\n",
       "      <td>0.0</td>\n",
       "      <td>0.0</td>\n",
       "      <td>0.0</td>\n",
       "      <td>3</td>\n",
       "      <td>0</td>\n",
       "    </tr>\n",
       "    <tr>\n",
       "      <th>4</th>\n",
       "      <td>1654733335</td>\n",
       "      <td>20.059</td>\n",
       "      <td>54.69</td>\n",
       "      <td>0</td>\n",
       "      <td>400</td>\n",
       "      <td>12403</td>\n",
       "      <td>18921</td>\n",
       "      <td>939.744</td>\n",
       "      <td>0.0</td>\n",
       "      <td>0.0</td>\n",
       "      <td>0.0</td>\n",
       "      <td>0.0</td>\n",
       "      <td>0.0</td>\n",
       "      <td>4</td>\n",
       "      <td>0</td>\n",
       "    </tr>\n",
       "  </tbody>\n",
       "</table>\n",
       "</div>"
      ],
      "text/plain": [
       "          UTC  Temperature[C]  Humidity[%]  TVOC[ppb]  eCO2[ppm]  Raw_H2  \\\n",
       "0  1654733331          20.000        57.36          0        400   12306   \n",
       "1  1654733332          20.015        56.67          0        400   12345   \n",
       "2  1654733333          20.029        55.96          0        400   12374   \n",
       "3  1654733334          20.044        55.28          0        400   12390   \n",
       "4  1654733335          20.059        54.69          0        400   12403   \n",
       "\n",
       "   Raw_Ethanol  Pressure[hPa]  PM1.0  PM2.5  NC0.5  NC1.0  NC2.5  CNT  \\\n",
       "0        18520        939.735    0.0    0.0    0.0    0.0    0.0    0   \n",
       "1        18651        939.744    0.0    0.0    0.0    0.0    0.0    1   \n",
       "2        18764        939.738    0.0    0.0    0.0    0.0    0.0    2   \n",
       "3        18849        939.736    0.0    0.0    0.0    0.0    0.0    3   \n",
       "4        18921        939.744    0.0    0.0    0.0    0.0    0.0    4   \n",
       "\n",
       "   Fire_Alarm  \n",
       "0           0  \n",
       "1           0  \n",
       "2           0  \n",
       "3           0  \n",
       "4           0  "
      ]
     },
     "execution_count": 6,
     "metadata": {},
     "output_type": "execute_result"
    }
   ],
   "source": [
    "df.columns = ['UTC', 'Temperature[C]', 'Humidity[%]', 'TVOC[ppb]', 'eCO2[ppm]',\n",
    "       'Raw_H2', 'Raw_Ethanol', 'Pressure[hPa]', 'PM1.0', 'PM2.5', 'NC0.5',\n",
    "       'NC1.0', 'NC2.5', 'CNT', 'Fire_Alarm']\n",
    "df.head()"
   ]
  },
  {
   "cell_type": "code",
   "execution_count": 7,
   "id": "0de0578c-3c33-46df-83a0-cd42e8553325",
   "metadata": {},
   "outputs": [
    {
     "data": {
      "text/html": [
       "<div>\n",
       "<style scoped>\n",
       "    .dataframe tbody tr th:only-of-type {\n",
       "        vertical-align: middle;\n",
       "    }\n",
       "\n",
       "    .dataframe tbody tr th {\n",
       "        vertical-align: top;\n",
       "    }\n",
       "\n",
       "    .dataframe thead th {\n",
       "        text-align: right;\n",
       "    }\n",
       "</style>\n",
       "<table border=\"1\" class=\"dataframe\">\n",
       "  <thead>\n",
       "    <tr style=\"text-align: right;\">\n",
       "      <th></th>\n",
       "      <th>UTC</th>\n",
       "      <th>Temperature[C]</th>\n",
       "      <th>Humidity[%]</th>\n",
       "      <th>TVOC[ppb]</th>\n",
       "      <th>eCO2[ppm]</th>\n",
       "      <th>Raw_H2</th>\n",
       "      <th>Raw_Ethanol</th>\n",
       "      <th>Pressure[hPa]</th>\n",
       "      <th>PM1.0</th>\n",
       "      <th>PM2.5</th>\n",
       "      <th>NC0.5</th>\n",
       "      <th>NC1.0</th>\n",
       "      <th>NC2.5</th>\n",
       "      <th>CNT</th>\n",
       "      <th>Fire_Alarm</th>\n",
       "    </tr>\n",
       "  </thead>\n",
       "  <tbody>\n",
       "    <tr>\n",
       "      <th>0</th>\n",
       "      <td>1.654733e+09</td>\n",
       "      <td>20.000</td>\n",
       "      <td>57.36</td>\n",
       "      <td>0.0</td>\n",
       "      <td>400.0</td>\n",
       "      <td>12306.0</td>\n",
       "      <td>18520.0</td>\n",
       "      <td>939.735</td>\n",
       "      <td>0.0</td>\n",
       "      <td>0.0</td>\n",
       "      <td>0.0</td>\n",
       "      <td>0.0</td>\n",
       "      <td>0.0</td>\n",
       "      <td>0.0</td>\n",
       "      <td>0.0</td>\n",
       "    </tr>\n",
       "    <tr>\n",
       "      <th>1</th>\n",
       "      <td>1.654733e+09</td>\n",
       "      <td>20.015</td>\n",
       "      <td>56.67</td>\n",
       "      <td>0.0</td>\n",
       "      <td>400.0</td>\n",
       "      <td>12345.0</td>\n",
       "      <td>18651.0</td>\n",
       "      <td>939.744</td>\n",
       "      <td>0.0</td>\n",
       "      <td>0.0</td>\n",
       "      <td>0.0</td>\n",
       "      <td>0.0</td>\n",
       "      <td>0.0</td>\n",
       "      <td>1.0</td>\n",
       "      <td>0.0</td>\n",
       "    </tr>\n",
       "    <tr>\n",
       "      <th>2</th>\n",
       "      <td>1.654733e+09</td>\n",
       "      <td>20.029</td>\n",
       "      <td>55.96</td>\n",
       "      <td>0.0</td>\n",
       "      <td>400.0</td>\n",
       "      <td>12374.0</td>\n",
       "      <td>18764.0</td>\n",
       "      <td>939.738</td>\n",
       "      <td>0.0</td>\n",
       "      <td>0.0</td>\n",
       "      <td>0.0</td>\n",
       "      <td>0.0</td>\n",
       "      <td>0.0</td>\n",
       "      <td>2.0</td>\n",
       "      <td>0.0</td>\n",
       "    </tr>\n",
       "    <tr>\n",
       "      <th>3</th>\n",
       "      <td>1.654733e+09</td>\n",
       "      <td>20.044</td>\n",
       "      <td>55.28</td>\n",
       "      <td>0.0</td>\n",
       "      <td>400.0</td>\n",
       "      <td>12390.0</td>\n",
       "      <td>18849.0</td>\n",
       "      <td>939.736</td>\n",
       "      <td>0.0</td>\n",
       "      <td>0.0</td>\n",
       "      <td>0.0</td>\n",
       "      <td>0.0</td>\n",
       "      <td>0.0</td>\n",
       "      <td>3.0</td>\n",
       "      <td>0.0</td>\n",
       "    </tr>\n",
       "    <tr>\n",
       "      <th>4</th>\n",
       "      <td>1.654733e+09</td>\n",
       "      <td>20.059</td>\n",
       "      <td>54.69</td>\n",
       "      <td>0.0</td>\n",
       "      <td>400.0</td>\n",
       "      <td>12403.0</td>\n",
       "      <td>18921.0</td>\n",
       "      <td>939.744</td>\n",
       "      <td>0.0</td>\n",
       "      <td>0.0</td>\n",
       "      <td>0.0</td>\n",
       "      <td>0.0</td>\n",
       "      <td>0.0</td>\n",
       "      <td>4.0</td>\n",
       "      <td>0.0</td>\n",
       "    </tr>\n",
       "  </tbody>\n",
       "</table>\n",
       "</div>"
      ],
      "text/plain": [
       "            UTC  Temperature[C]  Humidity[%]  TVOC[ppb]  eCO2[ppm]   Raw_H2  \\\n",
       "0  1.654733e+09          20.000        57.36        0.0      400.0  12306.0   \n",
       "1  1.654733e+09          20.015        56.67        0.0      400.0  12345.0   \n",
       "2  1.654733e+09          20.029        55.96        0.0      400.0  12374.0   \n",
       "3  1.654733e+09          20.044        55.28        0.0      400.0  12390.0   \n",
       "4  1.654733e+09          20.059        54.69        0.0      400.0  12403.0   \n",
       "\n",
       "   Raw_Ethanol  Pressure[hPa]  PM1.0  PM2.5  NC0.5  NC1.0  NC2.5  CNT  \\\n",
       "0      18520.0        939.735    0.0    0.0    0.0    0.0    0.0  0.0   \n",
       "1      18651.0        939.744    0.0    0.0    0.0    0.0    0.0  1.0   \n",
       "2      18764.0        939.738    0.0    0.0    0.0    0.0    0.0  2.0   \n",
       "3      18849.0        939.736    0.0    0.0    0.0    0.0    0.0  3.0   \n",
       "4      18921.0        939.744    0.0    0.0    0.0    0.0    0.0  4.0   \n",
       "\n",
       "   Fire_Alarm  \n",
       "0         0.0  \n",
       "1         0.0  \n",
       "2         0.0  \n",
       "3         0.0  \n",
       "4         0.0  "
      ]
     },
     "execution_count": 7,
     "metadata": {},
     "output_type": "execute_result"
    }
   ],
   "source": [
    "df = df.astype('float')\n",
    "df.head()"
   ]
  },
  {
   "cell_type": "markdown",
   "id": "2db60c7f-4767-4f02-8965-45214c199cb3",
   "metadata": {
    "jp-MarkdownHeadingCollapsed": true,
    "tags": []
   },
   "source": [
    "## **Datetime**"
   ]
  },
  {
   "cell_type": "code",
   "execution_count": 8,
   "id": "634ed650-3804-443a-8bf8-88636e5c529f",
   "metadata": {},
   "outputs": [
    {
     "data": {
      "text/plain": [
       "[datetime.date(2022, 6, 9),\n",
       " datetime.date(2022, 6, 9),\n",
       " datetime.date(2022, 6, 9),\n",
       " datetime.date(2022, 6, 9),\n",
       " datetime.date(2022, 6, 9)]"
      ]
     },
     "execution_count": 8,
     "metadata": {},
     "output_type": "execute_result"
    }
   ],
   "source": [
    "dt_ts = [datetime.date.fromtimestamp(i) for i in df['UTC']]\n",
    "dt_ts[:5]"
   ]
  },
  {
   "cell_type": "code",
   "execution_count": 9,
   "id": "ba5e6777-d828-4f5a-a419-f330425f5927",
   "metadata": {},
   "outputs": [
    {
     "data": {
      "text/plain": [
       "0    2022-06-09\n",
       "1    2022-06-09\n",
       "2    2022-06-09\n",
       "3    2022-06-09\n",
       "4    2022-06-09\n",
       "dtype: object"
      ]
     },
     "execution_count": 9,
     "metadata": {},
     "output_type": "execute_result"
    }
   ],
   "source": [
    "time = pd.Series(dt_ts)\n",
    "time[:5]"
   ]
  },
  {
   "cell_type": "code",
   "execution_count": 10,
   "id": "c6b7a1d4-040c-4dfe-91d4-38cef2406f5e",
   "metadata": {},
   "outputs": [
    {
     "name": "stdout",
     "output_type": "stream",
     "text": [
      "<class 'pandas.core.frame.DataFrame'>\n",
      "RangeIndex: 62630 entries, 0 to 62629\n",
      "Data columns (total 15 columns):\n",
      " #   Column          Non-Null Count  Dtype  \n",
      "---  ------          --------------  -----  \n",
      " 0   Time            62630 non-null  object \n",
      " 1   Temperature[C]  62630 non-null  float64\n",
      " 2   Humidity[%]     62630 non-null  float64\n",
      " 3   TVOC[ppb]       62630 non-null  float64\n",
      " 4   eCO2[ppm]       62630 non-null  float64\n",
      " 5   Raw_H2          62630 non-null  float64\n",
      " 6   Raw_Ethanol     62630 non-null  float64\n",
      " 7   Pressure[hPa]   62630 non-null  float64\n",
      " 8   PM1.0           62630 non-null  float64\n",
      " 9   PM2.5           62630 non-null  float64\n",
      " 10  NC0.5           62630 non-null  float64\n",
      " 11  NC1.0           62630 non-null  float64\n",
      " 12  NC2.5           62630 non-null  float64\n",
      " 13  CNT             62630 non-null  float64\n",
      " 14  Fire_Alarm      62630 non-null  float64\n",
      "dtypes: float64(14), object(1)\n",
      "memory usage: 7.2+ MB\n"
     ]
    }
   ],
   "source": [
    "df.insert(0 , 'Time' , time)\n",
    "df.drop('UTC' , axis=1 , inplace=True)\n",
    "df.info()"
   ]
  },
  {
   "cell_type": "code",
   "execution_count": 11,
   "id": "f28e3d0f-9c8f-4930-a7e2-09d76b0b7e70",
   "metadata": {},
   "outputs": [
    {
     "name": "stdout",
     "output_type": "stream",
     "text": [
      "<class 'pandas.core.frame.DataFrame'>\n",
      "RangeIndex: 62630 entries, 0 to 62629\n",
      "Data columns (total 15 columns):\n",
      " #   Column          Non-Null Count  Dtype         \n",
      "---  ------          --------------  -----         \n",
      " 0   Time            62630 non-null  datetime64[ns]\n",
      " 1   Temperature[C]  62630 non-null  float64       \n",
      " 2   Humidity[%]     62630 non-null  float64       \n",
      " 3   TVOC[ppb]       62630 non-null  float64       \n",
      " 4   eCO2[ppm]       62630 non-null  float64       \n",
      " 5   Raw_H2          62630 non-null  float64       \n",
      " 6   Raw_Ethanol     62630 non-null  float64       \n",
      " 7   Pressure[hPa]   62630 non-null  float64       \n",
      " 8   PM1.0           62630 non-null  float64       \n",
      " 9   PM2.5           62630 non-null  float64       \n",
      " 10  NC0.5           62630 non-null  float64       \n",
      " 11  NC1.0           62630 non-null  float64       \n",
      " 12  NC2.5           62630 non-null  float64       \n",
      " 13  CNT             62630 non-null  float64       \n",
      " 14  Fire_Alarm      62630 non-null  float64       \n",
      "dtypes: datetime64[ns](1), float64(14)\n",
      "memory usage: 7.2 MB\n"
     ]
    }
   ],
   "source": [
    "df['Time'] = pd.to_datetime(df['Time'])\n",
    "df.info()"
   ]
  },
  {
   "cell_type": "code",
   "execution_count": 12,
   "id": "60a23dcb-1686-4352-a9db-1e843bc2bb2d",
   "metadata": {},
   "outputs": [
    {
     "data": {
      "text/html": [
       "<div>\n",
       "<style scoped>\n",
       "    .dataframe tbody tr th:only-of-type {\n",
       "        vertical-align: middle;\n",
       "    }\n",
       "\n",
       "    .dataframe tbody tr th {\n",
       "        vertical-align: top;\n",
       "    }\n",
       "\n",
       "    .dataframe thead th {\n",
       "        text-align: right;\n",
       "    }\n",
       "</style>\n",
       "<table border=\"1\" class=\"dataframe\">\n",
       "  <thead>\n",
       "    <tr style=\"text-align: right;\">\n",
       "      <th></th>\n",
       "      <th>Time</th>\n",
       "      <th>Temperature[C]</th>\n",
       "      <th>Humidity[%]</th>\n",
       "      <th>TVOC[ppb]</th>\n",
       "      <th>eCO2[ppm]</th>\n",
       "      <th>Raw_H2</th>\n",
       "      <th>Raw_Ethanol</th>\n",
       "      <th>Pressure[hPa]</th>\n",
       "      <th>PM1.0</th>\n",
       "      <th>PM2.5</th>\n",
       "      <th>NC0.5</th>\n",
       "      <th>NC1.0</th>\n",
       "      <th>NC2.5</th>\n",
       "      <th>CNT</th>\n",
       "      <th>Fire_Alarm</th>\n",
       "    </tr>\n",
       "  </thead>\n",
       "  <tbody>\n",
       "    <tr>\n",
       "      <th>0</th>\n",
       "      <td>2022-06-09</td>\n",
       "      <td>20.000</td>\n",
       "      <td>57.36</td>\n",
       "      <td>0.0</td>\n",
       "      <td>400.0</td>\n",
       "      <td>12306.0</td>\n",
       "      <td>18520.0</td>\n",
       "      <td>939.735</td>\n",
       "      <td>0.0</td>\n",
       "      <td>0.0</td>\n",
       "      <td>0.0</td>\n",
       "      <td>0.0</td>\n",
       "      <td>0.0</td>\n",
       "      <td>0.0</td>\n",
       "      <td>0.0</td>\n",
       "    </tr>\n",
       "    <tr>\n",
       "      <th>1</th>\n",
       "      <td>2022-06-09</td>\n",
       "      <td>20.015</td>\n",
       "      <td>56.67</td>\n",
       "      <td>0.0</td>\n",
       "      <td>400.0</td>\n",
       "      <td>12345.0</td>\n",
       "      <td>18651.0</td>\n",
       "      <td>939.744</td>\n",
       "      <td>0.0</td>\n",
       "      <td>0.0</td>\n",
       "      <td>0.0</td>\n",
       "      <td>0.0</td>\n",
       "      <td>0.0</td>\n",
       "      <td>1.0</td>\n",
       "      <td>0.0</td>\n",
       "    </tr>\n",
       "    <tr>\n",
       "      <th>2</th>\n",
       "      <td>2022-06-09</td>\n",
       "      <td>20.029</td>\n",
       "      <td>55.96</td>\n",
       "      <td>0.0</td>\n",
       "      <td>400.0</td>\n",
       "      <td>12374.0</td>\n",
       "      <td>18764.0</td>\n",
       "      <td>939.738</td>\n",
       "      <td>0.0</td>\n",
       "      <td>0.0</td>\n",
       "      <td>0.0</td>\n",
       "      <td>0.0</td>\n",
       "      <td>0.0</td>\n",
       "      <td>2.0</td>\n",
       "      <td>0.0</td>\n",
       "    </tr>\n",
       "    <tr>\n",
       "      <th>3</th>\n",
       "      <td>2022-06-09</td>\n",
       "      <td>20.044</td>\n",
       "      <td>55.28</td>\n",
       "      <td>0.0</td>\n",
       "      <td>400.0</td>\n",
       "      <td>12390.0</td>\n",
       "      <td>18849.0</td>\n",
       "      <td>939.736</td>\n",
       "      <td>0.0</td>\n",
       "      <td>0.0</td>\n",
       "      <td>0.0</td>\n",
       "      <td>0.0</td>\n",
       "      <td>0.0</td>\n",
       "      <td>3.0</td>\n",
       "      <td>0.0</td>\n",
       "    </tr>\n",
       "    <tr>\n",
       "      <th>4</th>\n",
       "      <td>2022-06-09</td>\n",
       "      <td>20.059</td>\n",
       "      <td>54.69</td>\n",
       "      <td>0.0</td>\n",
       "      <td>400.0</td>\n",
       "      <td>12403.0</td>\n",
       "      <td>18921.0</td>\n",
       "      <td>939.744</td>\n",
       "      <td>0.0</td>\n",
       "      <td>0.0</td>\n",
       "      <td>0.0</td>\n",
       "      <td>0.0</td>\n",
       "      <td>0.0</td>\n",
       "      <td>4.0</td>\n",
       "      <td>0.0</td>\n",
       "    </tr>\n",
       "  </tbody>\n",
       "</table>\n",
       "</div>"
      ],
      "text/plain": [
       "        Time  Temperature[C]  Humidity[%]  TVOC[ppb]  eCO2[ppm]   Raw_H2  \\\n",
       "0 2022-06-09          20.000        57.36        0.0      400.0  12306.0   \n",
       "1 2022-06-09          20.015        56.67        0.0      400.0  12345.0   \n",
       "2 2022-06-09          20.029        55.96        0.0      400.0  12374.0   \n",
       "3 2022-06-09          20.044        55.28        0.0      400.0  12390.0   \n",
       "4 2022-06-09          20.059        54.69        0.0      400.0  12403.0   \n",
       "\n",
       "   Raw_Ethanol  Pressure[hPa]  PM1.0  PM2.5  NC0.5  NC1.0  NC2.5  CNT  \\\n",
       "0      18520.0        939.735    0.0    0.0    0.0    0.0    0.0  0.0   \n",
       "1      18651.0        939.744    0.0    0.0    0.0    0.0    0.0  1.0   \n",
       "2      18764.0        939.738    0.0    0.0    0.0    0.0    0.0  2.0   \n",
       "3      18849.0        939.736    0.0    0.0    0.0    0.0    0.0  3.0   \n",
       "4      18921.0        939.744    0.0    0.0    0.0    0.0    0.0  4.0   \n",
       "\n",
       "   Fire_Alarm  \n",
       "0         0.0  \n",
       "1         0.0  \n",
       "2         0.0  \n",
       "3         0.0  \n",
       "4         0.0  "
      ]
     },
     "execution_count": 12,
     "metadata": {},
     "output_type": "execute_result"
    }
   ],
   "source": [
    "df.head()"
   ]
  },
  {
   "cell_type": "markdown",
   "id": "4b717160-5350-4c5f-8168-eb0c68a47542",
   "metadata": {
    "jp-MarkdownHeadingCollapsed": true,
    "tags": []
   },
   "source": [
    "## **Train-Test-Split**"
   ]
  },
  {
   "cell_type": "code",
   "execution_count": 13,
   "id": "cabbfbe5-0a7a-43f7-979e-01d1fc9d574e",
   "metadata": {},
   "outputs": [
    {
     "data": {
      "text/plain": [
       "((50104, 15), (12526, 15))"
      ]
     },
     "execution_count": 13,
     "metadata": {},
     "output_type": "execute_result"
    }
   ],
   "source": [
    "train_set , test_set = train_test_split(df , test_size=0.2 , random_state=2)\n",
    "train_set.shape , test_set.shape"
   ]
  },
  {
   "cell_type": "markdown",
   "id": "de189b8a-ec71-43f2-a0f5-232ef04af040",
   "metadata": {
    "jp-MarkdownHeadingCollapsed": true,
    "tags": []
   },
   "source": [
    "## **Missing Values**"
   ]
  },
  {
   "cell_type": "code",
   "execution_count": 14,
   "id": "c912f1a5-d384-4230-9c96-728f943455b4",
   "metadata": {},
   "outputs": [
    {
     "data": {
      "text/plain": [
       "<matplotlib.axes._subplots.AxesSubplot at 0x1a2c7ad2988>"
      ]
     },
     "execution_count": 14,
     "metadata": {},
     "output_type": "execute_result"
    },
    {
     "data": {
      "image/png": "[encoded data removed]",
      "text/plain": [
       "<Figure size 1800x720 with 2 Axes>"
      ]
     },
     "metadata": {
      "needs_background": "light"
     },
     "output_type": "display_data"
    }
   ],
   "source": [
    "msno.matrix(train_set)"
   ]
  },
  {
   "cell_type": "code",
   "execution_count": 15,
   "id": "f050f5b8-0416-44ac-bfc8-60cc2d37999f",
   "metadata": {},
   "outputs": [
    {
     "data": {
      "text/plain": [
       "Time              0\n",
       "Temperature[C]    0\n",
       "Humidity[%]       0\n",
       "TVOC[ppb]         0\n",
       "eCO2[ppm]         0\n",
       "Raw_H2            0\n",
       "Raw_Ethanol       0\n",
       "Pressure[hPa]     0\n",
       "PM1.0             0\n",
       "PM2.5             0\n",
       "NC0.5             0\n",
       "NC1.0             0\n",
       "NC2.5             0\n",
       "CNT               0\n",
       "Fire_Alarm        0\n",
       "dtype: int64"
      ]
     },
     "execution_count": 15,
     "metadata": {},
     "output_type": "execute_result"
    }
   ],
   "source": [
    "train_set.isnull().sum()"
   ]
  },
  {
   "cell_type": "code",
   "execution_count": 16,
   "id": "1062d427-e08e-4eba-8ec9-2fc027eb1b9c",
   "metadata": {},
   "outputs": [
    {
     "name": "stdout",
     "output_type": "stream",
     "text": [
      "<class 'pandas.core.frame.DataFrame'>\n",
      "Int64Index: 50104 entries, 62009 to 23720\n",
      "Data columns (total 15 columns):\n",
      " #   Column          Non-Null Count  Dtype         \n",
      "---  ------          --------------  -----         \n",
      " 0   Time            50104 non-null  datetime64[ns]\n",
      " 1   Temperature[C]  50104 non-null  float64       \n",
      " 2   Humidity[%]     50104 non-null  float64       \n",
      " 3   TVOC[ppb]       50104 non-null  float64       \n",
      " 4   eCO2[ppm]       50104 non-null  float64       \n",
      " 5   Raw_H2          50104 non-null  float64       \n",
      " 6   Raw_Ethanol     50104 non-null  float64       \n",
      " 7   Pressure[hPa]   50104 non-null  float64       \n",
      " 8   PM1.0           50104 non-null  float64       \n",
      " 9   PM2.5           50104 non-null  float64       \n",
      " 10  NC0.5           50104 non-null  float64       \n",
      " 11  NC1.0           50104 non-null  float64       \n",
      " 12  NC2.5           50104 non-null  float64       \n",
      " 13  CNT             50104 non-null  float64       \n",
      " 14  Fire_Alarm      50104 non-null  float64       \n",
      "dtypes: datetime64[ns](1), float64(14)\n",
      "memory usage: 6.1 MB\n"
     ]
    }
   ],
   "source": [
    "train_set.info()"
   ]
  },
  {
   "cell_type": "markdown",
   "id": "be48c8e7-982d-4fe3-856b-8a9b2611502f",
   "metadata": {
    "jp-MarkdownHeadingCollapsed": true,
    "tags": []
   },
   "source": [
    "## **Exploratory Data Analysis (EDA)**"
   ]
  },
  {
   "cell_type": "markdown",
   "id": "b600b979-6122-4257-98ef-230cdd2a4d01",
   "metadata": {
    "tags": []
   },
   "source": [
    "### Single varaible analysis"
   ]
  },
  {
   "cell_type": "code",
   "execution_count": 17,
   "id": "6d156204-a9b1-45f1-bc66-39579259a05e",
   "metadata": {},
   "outputs": [
    {
     "data": {
      "text/html": [
       "<div>\n",
       "<style scoped>\n",
       "    .dataframe tbody tr th:only-of-type {\n",
       "        vertical-align: middle;\n",
       "    }\n",
       "\n",
       "    .dataframe tbody tr th {\n",
       "        vertical-align: top;\n",
       "    }\n",
       "\n",
       "    .dataframe thead th {\n",
       "        text-align: right;\n",
       "    }\n",
       "</style>\n",
       "<table border=\"1\" class=\"dataframe\">\n",
       "  <thead>\n",
       "    <tr style=\"text-align: right;\">\n",
       "      <th></th>\n",
       "      <th>Temperature[C]</th>\n",
       "      <th>Humidity[%]</th>\n",
       "      <th>TVOC[ppb]</th>\n",
       "      <th>eCO2[ppm]</th>\n",
       "      <th>Raw_H2</th>\n",
       "      <th>Raw_Ethanol</th>\n",
       "      <th>Pressure[hPa]</th>\n",
       "      <th>PM1.0</th>\n",
       "      <th>PM2.5</th>\n",
       "      <th>NC0.5</th>\n",
       "      <th>NC1.0</th>\n",
       "      <th>NC2.5</th>\n",
       "      <th>CNT</th>\n",
       "      <th>Fire_Alarm</th>\n",
       "    </tr>\n",
       "  </thead>\n",
       "  <tbody>\n",
       "    <tr>\n",
       "      <th>count</th>\n",
       "      <td>50104.000000</td>\n",
       "      <td>50104.000000</td>\n",
       "      <td>50104.000000</td>\n",
       "      <td>50104.000000</td>\n",
       "      <td>50104.000000</td>\n",
       "      <td>50104.000000</td>\n",
       "      <td>50104.000000</td>\n",
       "      <td>50104.000000</td>\n",
       "      <td>50104.000000</td>\n",
       "      <td>50104.000000</td>\n",
       "      <td>50104.000000</td>\n",
       "      <td>50104.000000</td>\n",
       "      <td>50104.000000</td>\n",
       "      <td>50104.000000</td>\n",
       "    </tr>\n",
       "    <tr>\n",
       "      <th>mean</th>\n",
       "      <td>16.006681</td>\n",
       "      <td>48.523095</td>\n",
       "      <td>1955.238604</td>\n",
       "      <td>671.350591</td>\n",
       "      <td>12942.423639</td>\n",
       "      <td>19754.879151</td>\n",
       "      <td>938.625142</td>\n",
       "      <td>101.619519</td>\n",
       "      <td>186.481177</td>\n",
       "      <td>496.137261</td>\n",
       "      <td>205.820879</td>\n",
       "      <td>80.994343</td>\n",
       "      <td>10501.073308</td>\n",
       "      <td>0.713596</td>\n",
       "    </tr>\n",
       "    <tr>\n",
       "      <th>std</th>\n",
       "      <td>14.357128</td>\n",
       "      <td>8.877214</td>\n",
       "      <td>7842.258901</td>\n",
       "      <td>1908.654413</td>\n",
       "      <td>273.393271</td>\n",
       "      <td>612.652118</td>\n",
       "      <td>1.330063</td>\n",
       "      <td>926.545890</td>\n",
       "      <td>1984.808927</td>\n",
       "      <td>4286.171454</td>\n",
       "      <td>2224.286977</td>\n",
       "      <td>1088.267037</td>\n",
       "      <td>7593.062405</td>\n",
       "      <td>0.452085</td>\n",
       "    </tr>\n",
       "    <tr>\n",
       "      <th>min</th>\n",
       "      <td>-22.010000</td>\n",
       "      <td>10.740000</td>\n",
       "      <td>0.000000</td>\n",
       "      <td>400.000000</td>\n",
       "      <td>10668.000000</td>\n",
       "      <td>15317.000000</td>\n",
       "      <td>930.852000</td>\n",
       "      <td>0.000000</td>\n",
       "      <td>0.000000</td>\n",
       "      <td>0.000000</td>\n",
       "      <td>0.000000</td>\n",
       "      <td>0.000000</td>\n",
       "      <td>0.000000</td>\n",
       "      <td>0.000000</td>\n",
       "    </tr>\n",
       "    <tr>\n",
       "      <th>25%</th>\n",
       "      <td>11.160750</td>\n",
       "      <td>47.530000</td>\n",
       "      <td>129.000000</td>\n",
       "      <td>400.000000</td>\n",
       "      <td>12830.000000</td>\n",
       "      <td>19435.000000</td>\n",
       "      <td>938.700000</td>\n",
       "      <td>1.280000</td>\n",
       "      <td>1.340000</td>\n",
       "      <td>8.840000</td>\n",
       "      <td>1.385000</td>\n",
       "      <td>0.033000</td>\n",
       "      <td>3626.750000</td>\n",
       "      <td>0.000000</td>\n",
       "    </tr>\n",
       "    <tr>\n",
       "      <th>50%</th>\n",
       "      <td>20.150500</td>\n",
       "      <td>50.140000</td>\n",
       "      <td>982.000000</td>\n",
       "      <td>400.000000</td>\n",
       "      <td>12923.000000</td>\n",
       "      <td>19501.000000</td>\n",
       "      <td>938.815000</td>\n",
       "      <td>1.810000</td>\n",
       "      <td>1.880000</td>\n",
       "      <td>12.450000</td>\n",
       "      <td>1.942000</td>\n",
       "      <td>0.044000</td>\n",
       "      <td>9317.500000</td>\n",
       "      <td>1.000000</td>\n",
       "    </tr>\n",
       "    <tr>\n",
       "      <th>75%</th>\n",
       "      <td>25.400000</td>\n",
       "      <td>53.240000</td>\n",
       "      <td>1189.000000</td>\n",
       "      <td>438.000000</td>\n",
       "      <td>13109.000000</td>\n",
       "      <td>20080.000000</td>\n",
       "      <td>939.415000</td>\n",
       "      <td>2.090000</td>\n",
       "      <td>2.180000</td>\n",
       "      <td>14.410000</td>\n",
       "      <td>2.248000</td>\n",
       "      <td>0.051000</td>\n",
       "      <td>17147.250000</td>\n",
       "      <td>1.000000</td>\n",
       "    </tr>\n",
       "    <tr>\n",
       "      <th>max</th>\n",
       "      <td>59.930000</td>\n",
       "      <td>75.080000</td>\n",
       "      <td>60000.000000</td>\n",
       "      <td>60000.000000</td>\n",
       "      <td>13803.000000</td>\n",
       "      <td>21410.000000</td>\n",
       "      <td>939.856000</td>\n",
       "      <td>14333.690000</td>\n",
       "      <td>45432.260000</td>\n",
       "      <td>61482.030000</td>\n",
       "      <td>51914.680000</td>\n",
       "      <td>30026.438000</td>\n",
       "      <td>24993.000000</td>\n",
       "      <td>1.000000</td>\n",
       "    </tr>\n",
       "  </tbody>\n",
       "</table>\n",
       "</div>"
      ],
      "text/plain": [
       "       Temperature[C]   Humidity[%]     TVOC[ppb]     eCO2[ppm]        Raw_H2  \\\n",
       "count    50104.000000  50104.000000  50104.000000  50104.000000  50104.000000   \n",
       "mean        16.006681     48.523095   1955.238604    671.350591  12942.423639   \n",
       "std         14.357128      8.877214   7842.258901   1908.654413    273.393271   \n",
       "min        -22.010000     10.740000      0.000000    400.000000  10668.000000   \n",
       "25%         11.160750     47.530000    129.000000    400.000000  12830.000000   \n",
       "50%         20.150500     50.140000    982.000000    400.000000  12923.000000   \n",
       "75%         25.400000     53.240000   1189.000000    438.000000  13109.000000   \n",
       "max         59.930000     75.080000  60000.000000  60000.000000  13803.000000   \n",
       "\n",
       "        Raw_Ethanol  Pressure[hPa]         PM1.0         PM2.5         NC0.5  \\\n",
       "count  50104.000000   50104.000000  50104.000000  50104.000000  50104.000000   \n",
       "mean   19754.879151     938.625142    101.619519    186.481177    496.137261   \n",
       "std      612.652118       1.330063    926.545890   1984.808927   4286.171454   \n",
       "min    15317.000000     930.852000      0.000000      0.000000      0.000000   \n",
       "25%    19435.000000     938.700000      1.280000      1.340000      8.840000   \n",
       "50%    19501.000000     938.815000      1.810000      1.880000     12.450000   \n",
       "75%    20080.000000     939.415000      2.090000      2.180000     14.410000   \n",
       "max    21410.000000     939.856000  14333.690000  45432.260000  61482.030000   \n",
       "\n",
       "              NC1.0         NC2.5           CNT    Fire_Alarm  \n",
       "count  50104.000000  50104.000000  50104.000000  50104.000000  \n",
       "mean     205.820879     80.994343  10501.073308      0.713596  \n",
       "std     2224.286977   1088.267037   7593.062405      0.452085  \n",
       "min        0.000000      0.000000      0.000000      0.000000  \n",
       "25%        1.385000      0.033000   3626.750000      0.000000  \n",
       "50%        1.942000      0.044000   9317.500000      1.000000  \n",
       "75%        2.248000      0.051000  17147.250000      1.000000  \n",
       "max    51914.680000  30026.438000  24993.000000      1.000000  "
      ]
     },
     "execution_count": 17,
     "metadata": {},
     "output_type": "execute_result"
    }
   ],
   "source": [
    "train_set.describe()"
   ]
  },
  {
   "cell_type": "code",
   "execution_count": 18,
   "id": "2903821c-e562-4a4b-ab0a-e6a16ecf417d",
   "metadata": {},
   "outputs": [
    {
     "data": {
      "text/plain": [
       "Temperature[C]       6.3305\n",
       "Humidity[%]          2.8500\n",
       "TVOC[ppb]          422.0000\n",
       "eCO2[ppm]            0.0000\n",
       "Raw_H2             122.0000\n",
       "Raw_Ethanol        127.0000\n",
       "Pressure[hPa]        0.4090\n",
       "PM1.0                0.3300\n",
       "PM2.5                0.3500\n",
       "NC0.5                2.3000\n",
       "NC1.0                0.3580\n",
       "NC2.5                0.0080\n",
       "CNT               6409.5000\n",
       "Fire_Alarm           0.0000\n",
       "dtype: float64"
      ]
     },
     "execution_count": 18,
     "metadata": {},
     "output_type": "execute_result"
    }
   ],
   "source": [
    "def median_abs_dev(x):\n",
    "    return (x - x.median()).abs().median()\n",
    "\n",
    "median_abs_dev(train_set.iloc[: , 1:])"
   ]
  },
  {
   "cell_type": "code",
   "execution_count": 19,
   "id": "7c20e4b9-31f3-497e-8dc0-baa428515aba",
   "metadata": {},
   "outputs": [
    {
     "data": {
      "image/png": "[encoded data removed]",
      "text/plain": [
       "<Figure size 1296x1296 with 15 Axes>"
      ]
     },
     "metadata": {
      "needs_background": "light"
     },
     "output_type": "display_data"
    }
   ],
   "source": [
    "fig , ax = plt.subplots(5 , 3 , figsize=(18,18))\n",
    "ax_flat = ax.flatten()\n",
    "\n",
    "for i,col in enumerate(train_set.columns):\n",
    "    ax = ax_flat[i]\n",
    "    sns.kdeplot(train_set[col]  , color='b', ax=ax , fill=True)"
   ]
  },
  {
   "cell_type": "code",
   "execution_count": 20,
   "id": "c36f479e-0cfe-4ab6-8d76-7e6fef57fa35",
   "metadata": {},
   "outputs": [
    {
     "ename": "KeyError",
     "evalue": "0",
     "output_type": "error",
     "traceback": [
      "\u001b[1;31m---------------------------------------------------------------------------\u001b[0m",
      "\u001b[1;31mKeyError\u001b[0m                                  Traceback (most recent call last)",
      "\u001b[1;32m~\\anaconda3\\lib\\site-packages\\pandas\\core\\indexes\\base.py\u001b[0m in \u001b[0;36mget_loc\u001b[1;34m(self, key, method, tolerance)\u001b[0m\n\u001b[0;32m   3360\u001b[0m             \u001b[1;32mtry\u001b[0m\u001b[1;33m:\u001b[0m\u001b[1;33m\u001b[0m\u001b[1;33m\u001b[0m\u001b[0m\n\u001b[1;32m-> 3361\u001b[1;33m                 \u001b[1;32mreturn\u001b[0m \u001b[0mself\u001b[0m\u001b[1;33m.\u001b[0m\u001b[0m_engine\u001b[0m\u001b[1;33m.\u001b[0m\u001b[0mget_loc\u001b[0m\u001b[1;33m(\u001b[0m\u001b[0mcasted_key\u001b[0m\u001b[1;33m)\u001b[0m\u001b[1;33m\u001b[0m\u001b[1;33m\u001b[0m\u001b[0m\n\u001b[0m\u001b[0;32m   3362\u001b[0m             \u001b[1;32mexcept\u001b[0m \u001b[0mKeyError\u001b[0m \u001b[1;32mas\u001b[0m \u001b[0merr\u001b[0m\u001b[1;33m:\u001b[0m\u001b[1;33m\u001b[0m\u001b[1;33m\u001b[0m\u001b[0m\n",
      "\u001b[1;32m~\\anaconda3\\lib\\site-packages\\pandas\\_libs\\index.pyx\u001b[0m in \u001b[0;36mpandas._libs.index.IndexEngine.get_loc\u001b[1;34m()\u001b[0m\n",
      "\u001b[1;32m~\\anaconda3\\lib\\site-packages\\pandas\\_libs\\index.pyx\u001b[0m in \u001b[0;36mpandas._libs.index.IndexEngine.get_loc\u001b[1;34m()\u001b[0m\n",
      "\u001b[1;32mpandas\\_libs\\hashtable_class_helper.pxi\u001b[0m in \u001b[0;36mpandas._libs.hashtable.Int64HashTable.get_item\u001b[1;34m()\u001b[0m\n",
      "\u001b[1;32mpandas\\_libs\\hashtable_class_helper.pxi\u001b[0m in \u001b[0;36mpandas._libs.hashtable.Int64HashTable.get_item\u001b[1;34m()\u001b[0m\n",
      "\u001b[1;31mKeyError\u001b[0m: 0",
      "\nThe above exception was the direct cause of the following exception:\n",
      "\u001b[1;31mKeyError\u001b[0m                                  Traceback (most recent call last)",
      "\u001b[1;32m<ipython-input-20-77c7112d8da7>\u001b[0m in \u001b[0;36m<module>\u001b[1;34m\u001b[0m\n\u001b[0;32m      4\u001b[0m \u001b[1;32mfor\u001b[0m \u001b[0mi\u001b[0m\u001b[1;33m,\u001b[0m\u001b[0mcol\u001b[0m \u001b[1;32min\u001b[0m \u001b[0menumerate\u001b[0m\u001b[1;33m(\u001b[0m\u001b[0mtrain_set\u001b[0m\u001b[1;33m.\u001b[0m\u001b[0mcolumns\u001b[0m\u001b[1;33m[\u001b[0m\u001b[1;36m1\u001b[0m\u001b[1;33m:\u001b[0m\u001b[1;33m-\u001b[0m\u001b[1;36m1\u001b[0m\u001b[1;33m]\u001b[0m\u001b[1;33m)\u001b[0m\u001b[1;33m:\u001b[0m\u001b[1;33m\u001b[0m\u001b[1;33m\u001b[0m\u001b[0m\n\u001b[0;32m      5\u001b[0m     \u001b[0max\u001b[0m \u001b[1;33m=\u001b[0m \u001b[0max_flat\u001b[0m\u001b[1;33m[\u001b[0m\u001b[0mi\u001b[0m\u001b[1;33m]\u001b[0m\u001b[1;33m\u001b[0m\u001b[1;33m\u001b[0m\u001b[0m\n\u001b[1;32m----> 6\u001b[1;33m     \u001b[0msns\u001b[0m\u001b[1;33m.\u001b[0m\u001b[0mboxplot\u001b[0m\u001b[1;33m(\u001b[0m\u001b[0mtrain_set\u001b[0m\u001b[1;33m[\u001b[0m\u001b[0mcol\u001b[0m\u001b[1;33m]\u001b[0m \u001b[1;33m,\u001b[0m \u001b[0max\u001b[0m\u001b[1;33m=\u001b[0m\u001b[0max\u001b[0m\u001b[1;33m)\u001b[0m\u001b[1;33m\u001b[0m\u001b[1;33m\u001b[0m\u001b[0m\n\u001b[0m\u001b[0;32m      7\u001b[0m     \u001b[0max\u001b[0m\u001b[1;33m.\u001b[0m\u001b[0mset_title\u001b[0m\u001b[1;33m(\u001b[0m\u001b[0mcol\u001b[0m\u001b[1;33m)\u001b[0m\u001b[1;33m\u001b[0m\u001b[1;33m\u001b[0m\u001b[0m\n",
      "\u001b[1;32m~\\anaconda3\\lib\\site-packages\\seaborn\\categorical.py\u001b[0m in \u001b[0;36mboxplot\u001b[1;34m(data, x, y, hue, order, hue_order, orient, color, palette, saturation, width, dodge, fliersize, linewidth, whis, ax, **kwargs)\u001b[0m\n\u001b[0;32m   2231\u001b[0m     plotter = _BoxPlotter(x, y, hue, data, order, hue_order,\n\u001b[0;32m   2232\u001b[0m                           \u001b[0morient\u001b[0m\u001b[1;33m,\u001b[0m \u001b[0mcolor\u001b[0m\u001b[1;33m,\u001b[0m \u001b[0mpalette\u001b[0m\u001b[1;33m,\u001b[0m \u001b[0msaturation\u001b[0m\u001b[1;33m,\u001b[0m\u001b[1;33m\u001b[0m\u001b[1;33m\u001b[0m\u001b[0m\n\u001b[1;32m-> 2233\u001b[1;33m                           width, dodge, fliersize, linewidth)\n\u001b[0m\u001b[0;32m   2234\u001b[0m \u001b[1;33m\u001b[0m\u001b[0m\n\u001b[0;32m   2235\u001b[0m     \u001b[1;32mif\u001b[0m \u001b[0max\u001b[0m \u001b[1;32mis\u001b[0m \u001b[1;32mNone\u001b[0m\u001b[1;33m:\u001b[0m\u001b[1;33m\u001b[0m\u001b[1;33m\u001b[0m\u001b[0m\n",
      "\u001b[1;32m~\\anaconda3\\lib\\site-packages\\seaborn\\categorical.py\u001b[0m in \u001b[0;36m__init__\u001b[1;34m(self, x, y, hue, data, order, hue_order, orient, color, palette, saturation, width, dodge, fliersize, linewidth)\u001b[0m\n\u001b[0;32m    783\u001b[0m                  width, dodge, fliersize, linewidth):\n\u001b[0;32m    784\u001b[0m \u001b[1;33m\u001b[0m\u001b[0m\n\u001b[1;32m--> 785\u001b[1;33m         \u001b[0mself\u001b[0m\u001b[1;33m.\u001b[0m\u001b[0mestablish_variables\u001b[0m\u001b[1;33m(\u001b[0m\u001b[0mx\u001b[0m\u001b[1;33m,\u001b[0m \u001b[0my\u001b[0m\u001b[1;33m,\u001b[0m \u001b[0mhue\u001b[0m\u001b[1;33m,\u001b[0m \u001b[0mdata\u001b[0m\u001b[1;33m,\u001b[0m \u001b[0morient\u001b[0m\u001b[1;33m,\u001b[0m \u001b[0morder\u001b[0m\u001b[1;33m,\u001b[0m \u001b[0mhue_order\u001b[0m\u001b[1;33m)\u001b[0m\u001b[1;33m\u001b[0m\u001b[1;33m\u001b[0m\u001b[0m\n\u001b[0m\u001b[0;32m    786\u001b[0m         \u001b[0mself\u001b[0m\u001b[1;33m.\u001b[0m\u001b[0mestablish_colors\u001b[0m\u001b[1;33m(\u001b[0m\u001b[0mcolor\u001b[0m\u001b[1;33m,\u001b[0m \u001b[0mpalette\u001b[0m\u001b[1;33m,\u001b[0m \u001b[0msaturation\u001b[0m\u001b[1;33m)\u001b[0m\u001b[1;33m\u001b[0m\u001b[1;33m\u001b[0m\u001b[0m\n\u001b[0;32m    787\u001b[0m \u001b[1;33m\u001b[0m\u001b[0m\n",
      "\u001b[1;32m~\\anaconda3\\lib\\site-packages\\seaborn\\categorical.py\u001b[0m in \u001b[0;36mestablish_variables\u001b[1;34m(self, x, y, hue, data, orient, order, hue_order, units)\u001b[0m\n\u001b[0;32m    484\u001b[0m                 \u001b[1;32mif\u001b[0m \u001b[0mhasattr\u001b[0m\u001b[1;33m(\u001b[0m\u001b[0mdata\u001b[0m\u001b[1;33m,\u001b[0m \u001b[1;34m\"shape\"\u001b[0m\u001b[1;33m)\u001b[0m\u001b[1;33m:\u001b[0m\u001b[1;33m\u001b[0m\u001b[1;33m\u001b[0m\u001b[0m\n\u001b[0;32m    485\u001b[0m                     \u001b[1;32mif\u001b[0m \u001b[0mlen\u001b[0m\u001b[1;33m(\u001b[0m\u001b[0mdata\u001b[0m\u001b[1;33m.\u001b[0m\u001b[0mshape\u001b[0m\u001b[1;33m)\u001b[0m \u001b[1;33m==\u001b[0m \u001b[1;36m1\u001b[0m\u001b[1;33m:\u001b[0m\u001b[1;33m\u001b[0m\u001b[1;33m\u001b[0m\u001b[0m\n\u001b[1;32m--> 486\u001b[1;33m                         \u001b[1;32mif\u001b[0m \u001b[0mnp\u001b[0m\u001b[1;33m.\u001b[0m\u001b[0misscalar\u001b[0m\u001b[1;33m(\u001b[0m\u001b[0mdata\u001b[0m\u001b[1;33m[\u001b[0m\u001b[1;36m0\u001b[0m\u001b[1;33m]\u001b[0m\u001b[1;33m)\u001b[0m\u001b[1;33m:\u001b[0m\u001b[1;33m\u001b[0m\u001b[1;33m\u001b[0m\u001b[0m\n\u001b[0m\u001b[0;32m    487\u001b[0m                             \u001b[0mplot_data\u001b[0m \u001b[1;33m=\u001b[0m \u001b[1;33m[\u001b[0m\u001b[0mdata\u001b[0m\u001b[1;33m]\u001b[0m\u001b[1;33m\u001b[0m\u001b[1;33m\u001b[0m\u001b[0m\n\u001b[0;32m    488\u001b[0m                         \u001b[1;32melse\u001b[0m\u001b[1;33m:\u001b[0m\u001b[1;33m\u001b[0m\u001b[1;33m\u001b[0m\u001b[0m\n",
      "\u001b[1;32m~\\anaconda3\\lib\\site-packages\\pandas\\core\\series.py\u001b[0m in \u001b[0;36m__getitem__\u001b[1;34m(self, key)\u001b[0m\n\u001b[0;32m    940\u001b[0m \u001b[1;33m\u001b[0m\u001b[0m\n\u001b[0;32m    941\u001b[0m         \u001b[1;32melif\u001b[0m \u001b[0mkey_is_scalar\u001b[0m\u001b[1;33m:\u001b[0m\u001b[1;33m\u001b[0m\u001b[1;33m\u001b[0m\u001b[0m\n\u001b[1;32m--> 942\u001b[1;33m             \u001b[1;32mreturn\u001b[0m \u001b[0mself\u001b[0m\u001b[1;33m.\u001b[0m\u001b[0m_get_value\u001b[0m\u001b[1;33m(\u001b[0m\u001b[0mkey\u001b[0m\u001b[1;33m)\u001b[0m\u001b[1;33m\u001b[0m\u001b[1;33m\u001b[0m\u001b[0m\n\u001b[0m\u001b[0;32m    943\u001b[0m \u001b[1;33m\u001b[0m\u001b[0m\n\u001b[0;32m    944\u001b[0m         \u001b[1;32mif\u001b[0m \u001b[0mis_hashable\u001b[0m\u001b[1;33m(\u001b[0m\u001b[0mkey\u001b[0m\u001b[1;33m)\u001b[0m\u001b[1;33m:\u001b[0m\u001b[1;33m\u001b[0m\u001b[1;33m\u001b[0m\u001b[0m\n",
      "\u001b[1;32m~\\anaconda3\\lib\\site-packages\\pandas\\core\\series.py\u001b[0m in \u001b[0;36m_get_value\u001b[1;34m(self, label, takeable)\u001b[0m\n\u001b[0;32m   1049\u001b[0m \u001b[1;33m\u001b[0m\u001b[0m\n\u001b[0;32m   1050\u001b[0m         \u001b[1;31m# Similar to Index.get_value, but we do not fall back to positional\u001b[0m\u001b[1;33m\u001b[0m\u001b[1;33m\u001b[0m\u001b[1;33m\u001b[0m\u001b[0m\n\u001b[1;32m-> 1051\u001b[1;33m         \u001b[0mloc\u001b[0m \u001b[1;33m=\u001b[0m \u001b[0mself\u001b[0m\u001b[1;33m.\u001b[0m\u001b[0mindex\u001b[0m\u001b[1;33m.\u001b[0m\u001b[0mget_loc\u001b[0m\u001b[1;33m(\u001b[0m\u001b[0mlabel\u001b[0m\u001b[1;33m)\u001b[0m\u001b[1;33m\u001b[0m\u001b[1;33m\u001b[0m\u001b[0m\n\u001b[0m\u001b[0;32m   1052\u001b[0m         \u001b[1;32mreturn\u001b[0m \u001b[0mself\u001b[0m\u001b[1;33m.\u001b[0m\u001b[0mindex\u001b[0m\u001b[1;33m.\u001b[0m\u001b[0m_get_values_for_loc\u001b[0m\u001b[1;33m(\u001b[0m\u001b[0mself\u001b[0m\u001b[1;33m,\u001b[0m \u001b[0mloc\u001b[0m\u001b[1;33m,\u001b[0m \u001b[0mlabel\u001b[0m\u001b[1;33m)\u001b[0m\u001b[1;33m\u001b[0m\u001b[1;33m\u001b[0m\u001b[0m\n\u001b[0;32m   1053\u001b[0m \u001b[1;33m\u001b[0m\u001b[0m\n",
      "\u001b[1;32m~\\anaconda3\\lib\\site-packages\\pandas\\core\\indexes\\base.py\u001b[0m in \u001b[0;36mget_loc\u001b[1;34m(self, key, method, tolerance)\u001b[0m\n\u001b[0;32m   3361\u001b[0m                 \u001b[1;32mreturn\u001b[0m \u001b[0mself\u001b[0m\u001b[1;33m.\u001b[0m\u001b[0m_engine\u001b[0m\u001b[1;33m.\u001b[0m\u001b[0mget_loc\u001b[0m\u001b[1;33m(\u001b[0m\u001b[0mcasted_key\u001b[0m\u001b[1;33m)\u001b[0m\u001b[1;33m\u001b[0m\u001b[1;33m\u001b[0m\u001b[0m\n\u001b[0;32m   3362\u001b[0m             \u001b[1;32mexcept\u001b[0m \u001b[0mKeyError\u001b[0m \u001b[1;32mas\u001b[0m \u001b[0merr\u001b[0m\u001b[1;33m:\u001b[0m\u001b[1;33m\u001b[0m\u001b[1;33m\u001b[0m\u001b[0m\n\u001b[1;32m-> 3363\u001b[1;33m                 \u001b[1;32mraise\u001b[0m \u001b[0mKeyError\u001b[0m\u001b[1;33m(\u001b[0m\u001b[0mkey\u001b[0m\u001b[1;33m)\u001b[0m \u001b[1;32mfrom\u001b[0m \u001b[0merr\u001b[0m\u001b[1;33m\u001b[0m\u001b[1;33m\u001b[0m\u001b[0m\n\u001b[0m\u001b[0;32m   3364\u001b[0m \u001b[1;33m\u001b[0m\u001b[0m\n\u001b[0;32m   3365\u001b[0m         \u001b[1;32mif\u001b[0m \u001b[0mis_scalar\u001b[0m\u001b[1;33m(\u001b[0m\u001b[0mkey\u001b[0m\u001b[1;33m)\u001b[0m \u001b[1;32mand\u001b[0m \u001b[0misna\u001b[0m\u001b[1;33m(\u001b[0m\u001b[0mkey\u001b[0m\u001b[1;33m)\u001b[0m \u001b[1;32mand\u001b[0m \u001b[1;32mnot\u001b[0m \u001b[0mself\u001b[0m\u001b[1;33m.\u001b[0m\u001b[0mhasnans\u001b[0m\u001b[1;33m:\u001b[0m\u001b[1;33m\u001b[0m\u001b[1;33m\u001b[0m\u001b[0m\n",
      "\u001b[1;31mKeyError\u001b[0m: 0"
     ]
    },
    {
     "data": {
      "image/png": "[encoded data removed]",
      "text/plain": [
       "<Figure size 1296x2160 with 15 Axes>"
      ]
     },
     "metadata": {
      "needs_background": "light"
     },
     "output_type": "display_data"
    }
   ],
   "source": [
    "fig , ax = plt.subplots(5 , 3 , figsize=(18,30))\n",
    "ax_flat = ax.flatten()\n",
    "\n",
    "for i,col in enumerate(train_set.columns[1:-1]):\n",
    "    ax = ax_flat[i]\n",
    "    sns.boxplot(train_set[col] , ax=ax)\n",
    "    ax.set_title(col)"
   ]
  },
  {
   "cell_type": "markdown",
   "id": "e7f82132-727f-4284-a821-2fe395cc4418",
   "metadata": {},
   "source": [
    "### Two Varaibles Analysis"
   ]
  },
  {
   "cell_type": "code",
   "execution_count": null,
   "id": "f88121ea-fe77-42ef-8a2a-6cbcbc9bc000",
   "metadata": {},
   "outputs": [],
   "source": [
    "corr = train_set.corr()"
   ]
  },
  {
   "cell_type": "code",
   "execution_count": null,
   "id": "2e652ff5-918e-47be-96aa-67cd7089a43a",
   "metadata": {},
   "outputs": [],
   "source": [
    "plt.figure(figsize=(16, 16))\n",
    "sns.heatmap(corr, annot=True , cmap='viridis')"
   ]
  },
  {
   "cell_type": "code",
   "execution_count": null,
   "id": "9cea3ae9-cfef-4484-ab89-23a151336c1d",
   "metadata": {},
   "outputs": [],
   "source": [
    "target_corr = corr['Fire_Alarm'].abs().sort_values(ascending=False)\n",
    "target_corr"
   ]
  },
  {
   "cell_type": "code",
   "execution_count": null,
   "id": "bc282ba0-0f78-427d-8c23-bdbdd06e08a7",
   "metadata": {},
   "outputs": [],
   "source": [
    "Cols = list([target_corr.index][0])\n",
    "Cols.remove('Fire_Alarm')\n",
    "\n",
    "fig , ax = plt.subplots(5 , 3 , figsize=(16 , 30))\n",
    "ax_flat = ax.flatten()\n",
    "\n",
    "for i,col in enumerate(Cols):\n",
    "    ax = ax_flat[i]\n",
    "    sns.scatterplot(data = train_set , x=train_set[col] , y=train_set['Fire_Alarm'] , alpha=0.2 , ax=ax)\n",
    "    ax.set_title(col)"
   ]
  },
  {
   "cell_type": "code",
   "execution_count": null,
   "id": "3de4af6a-c2fb-4760-988a-d202e4df85b1",
   "metadata": {},
   "outputs": [],
   "source": [
    "plt.figure(figsize=(8,6))\n",
    "sns.scatterplot(data=train_set , x=train_set.iloc[: , 4] , y=train_set.iloc[: , 5] , alpha=0.2 , hue=train_set['Fire_Alarm']);"
   ]
  },
  {
   "cell_type": "code",
   "execution_count": null,
   "id": "bc2bd040-0478-4dc5-94c7-4f808f4cd888",
   "metadata": {},
   "outputs": [],
   "source": [
    "plt.figure(figsize=(8,6))\n",
    "sns.scatterplot(data=train_set , x=train_set.iloc[: , 3] , y=train_set.iloc[: , 5] , alpha=0.2 ,  hue=train_set['Fire_Alarm']);"
   ]
  },
  {
   "cell_type": "code",
   "execution_count": null,
   "id": "a1b6039e-b713-4e35-915f-4213e36ae149",
   "metadata": {},
   "outputs": [],
   "source": [
    "plt.figure(figsize=(8,6))\n",
    "sns.scatterplot(data=train_set , x=train_set.iloc[: , 6] , y=train_set.iloc[: , -2]  ,  hue=train_set['Fire_Alarm']);"
   ]
  },
  {
   "cell_type": "code",
   "execution_count": null,
   "id": "38791128-be13-4406-859d-94a0d20ec61b",
   "metadata": {},
   "outputs": [],
   "source": [
    "plt.figure(figsize=(8,6))\n",
    "sns.scatterplot(data=train_set , x=train_set.iloc[: , 2] , alpha=0.2 ,  y=train_set.iloc[: , 7],  hue=train_set['Fire_Alarm']);"
   ]
  },
  {
   "cell_type": "code",
   "execution_count": null,
   "id": "b82d9f05-344c-44d7-96ac-0c1bcaa0b663",
   "metadata": {},
   "outputs": [],
   "source": [
    "plt.figure(figsize=(8,6))\n",
    "sns.scatterplot(data=train_set , x=train_set.iloc[: , 2] , alpha=0.2 ,  y=train_set.iloc[: , 3],  hue=train_set['Fire_Alarm']);"
   ]
  },
  {
   "cell_type": "code",
   "execution_count": null,
   "id": "2262762f-1d8f-445a-b122-26e8c7e3387f",
   "metadata": {},
   "outputs": [],
   "source": [
    "fig , ax = plt.subplots(2 , 2 , figsize = (16 , 16))\n",
    "ax_flat = ax.flatten()\n",
    "\n",
    "for i in range(9,13):\n",
    "    ax = ax_flat[i-9]\n",
    "    sns.scatterplot(data=train_set , x=train_set.iloc[: , 8]  ,  y=train_set.iloc[: , i]  ,  hue=train_set['Fire_Alarm'] , ax = ax)"
   ]
  },
  {
   "cell_type": "code",
   "execution_count": null,
   "id": "ee165d60-3d32-4fe2-be5c-7b37fdd35958",
   "metadata": {},
   "outputs": [],
   "source": [
    "plt.figure(figsize=(8,6))\n",
    "sns.scatterplot(data=train_set , x=train_set.iloc[: , 3] , y=train_set.iloc[: , -7]  ,  hue=train_set['Fire_Alarm']);"
   ]
  },
  {
   "cell_type": "code",
   "execution_count": null,
   "id": "6a389c17-e280-43e9-ba69-7f2a7db4382f",
   "metadata": {},
   "outputs": [],
   "source": [
    "Cols = list([target_corr.index][0])\n",
    "Cols.remove('Fire_Alarm')\n",
    "\n",
    "fig , ax = plt.subplots(5 , 3 , figsize=(16 , 30))\n",
    "ax_flat = ax.flatten()\n",
    "\n",
    "for i,col in enumerate(Cols):\n",
    "    ax = ax_flat[i]\n",
    "    sns.violinplot(data = train_set , x='Fire_Alarm' , y=train_set[col] , ax=ax)\n",
    "    ax.set_title(col)"
   ]
  },
  {
   "cell_type": "markdown",
   "id": "4612c30b-f1dd-47e2-baf3-df59cfa1e419",
   "metadata": {
    "jp-MarkdownHeadingCollapsed": true,
    "tags": []
   },
   "source": [
    "## **Outliers**"
   ]
  },
  {
   "cell_type": "code",
   "execution_count": null,
   "id": "be5049e2-8b82-480c-80ab-e889a70449fa",
   "metadata": {},
   "outputs": [],
   "source": [
    "pt = PowerTransformer()\n",
    "\n",
    "# Create figure with 2 rows and 2 columns of subplots\n",
    "fig, axes = plt.subplots(2, 2, figsize=(12, 8))\n",
    "\n",
    "# Boxplot of original Raw_H2\n",
    "fliers = axes[0, 0].boxplot(train_set.Raw_H2, vert=False, whis=1.5)['fliers'][0].get_ydata()\n",
    "axes[0, 0].set_title(f'Number of fliers: {len(fliers)}')\n",
    "\n",
    "# Box-Cox transformation of Raw_H2\n",
    "transformed_Raw_H2 = pt.fit_transform(train_set['Raw_H2'][: , np.newaxis])\n",
    "fliers = axes[0, 1].boxplot(transformed_Raw_H2, vert=False, whis=1.5)['fliers'][0].get_ydata()\n",
    "axes[0, 1].set_title(f'Number of fliers: {len(fliers)}')\n",
    "\n",
    "# Histogram of original Raw_H2\n",
    "skewness_orig = skew(train_set.Raw_H2)\n",
    "axes[1, 0].hist(train_set.Raw_H2, 50)\n",
    "axes[1, 0].set_title(f'Histogram of Raw_H2 (Skewness: {skewness_orig:.2f})')\n",
    "\n",
    "# Histogram of transformed Raw_H2\n",
    "skewness_transformed = skew(transformed_Raw_H2)\n",
    "axes[1, 1].hist(transformed_Raw_H2, 50)\n",
    "axes[1, 1].set_title(f'Histogram of transformed Raw_H2 (Skewness: {skewness_transformed[0]})')\n",
    "\n",
    "# Adjust subplot spacing and display the figure\n",
    "plt.tight_layout()\n",
    "plt.show()"
   ]
  },
  {
   "cell_type": "code",
   "execution_count": null,
   "id": "c068156c-7499-4110-b9e6-8fd14a5d40ad",
   "metadata": {},
   "outputs": [],
   "source": [
    "pt = PowerTransformer()\n",
    "\n",
    "cols = ['Temperature[C]', 'Humidity[%]', 'TVOC[ppb]' ,'eCO2[ppm]', 'Raw_H2', 'Raw_Ethanol']\n",
    "# Create figure with n_rows rows and 4 columns of subplots\n",
    "n_rows = len(cols)\n",
    "\n",
    "fig, axes = plt.subplots(n_rows, 4, figsize=(16, 4*n_rows))\n",
    "\n",
    "# iterate over numerical features and plot boxplots and histograms\n",
    "for i, col in enumerate(cols):\n",
    "    \n",
    "    # compute skewness of original feature\n",
    "    skewness_orig = skew(train_set[col])\n",
    "    \n",
    "    # plot boxplot of original feature\n",
    "    fliers = axes[i, 0].boxplot(train_set[col], vert=False, whis=1.5)['fliers'][0].get_ydata()\n",
    "    axes[i, 0].set_title(f'Number of fliers: {len(fliers)}')\n",
    "    \n",
    "    # plot histogram of original feature\n",
    "    axes[i, 1].hist(train_set[col], 50)\n",
    "    axes[i, 1].set_title(f'Histogram of {col} (Skewness: {skewness_orig:.2f})')\n",
    "    \n",
    "    # plot boxplot of PowerTransformer transformed feature\n",
    "    transformed_feature = pt.fit_transform(train_set[col][: , None])\n",
    "    skewness_transformed = skew(transformed_feature)\n",
    "    transformed_fliers = axes[i, 2].boxplot(transformed_feature, vert=False, whis=1.5)['fliers'][0].get_ydata()\n",
    "    axes[i, 2].set_title(f'Number of fliers: {len(transformed_fliers)}')\n",
    "    \n",
    "    # plot histogram of PowerTransformer transformed feature\n",
    "    axes[i, 3].set_title(f'Transformed {col} (Skewness: {skewness_transformed[0]})')\n",
    "    axes[i, 3].hist(transformed_feature, 50)\n",
    "\n",
    "# Adjust subplot spacing and display the figure\n",
    "plt.tight_layout()\n",
    "plt.show()"
   ]
  },
  {
   "cell_type": "code",
   "execution_count": null,
   "id": "3ed9ac02-ddbc-4a7d-85d6-19e9687aa2ff",
   "metadata": {},
   "outputs": [],
   "source": [
    "pt = PowerTransformer()\n",
    "\n",
    "cols = ['Pressure[hPa]', 'PM1.0', 'PM2.5', 'NC0.5', 'NC1.0', 'NC2.5']\n",
    "# Create figure with n_rows rows and 4 columns of subplots\n",
    "n_rows = len(cols)\n",
    "\n",
    "fig, axes = plt.subplots(n_rows, 4, figsize=(16, 4*n_rows))\n",
    "\n",
    "# iterate over numerical features and plot boxplots and histograms\n",
    "for i, col in enumerate(cols):\n",
    "\n",
    "    \n",
    "    # compute skewness of original feature\n",
    "    skewness_orig = skew(train_set[col])\n",
    "    \n",
    "    # plot boxplot of original feature\n",
    "    fliers = axes[i, 0].boxplot(train_set[col], vert=False, whis=1.5)['fliers'][0].get_ydata()\n",
    "    axes[i, 0].set_title(f'Number of fliers: {len(fliers)}')\n",
    "    \n",
    "    # plot histogram of original feature\n",
    "    axes[i, 1].hist(train_set[col], 50)\n",
    "    axes[i, 1].set_title(f'Histogram of {col} (Skewness: {skewness_orig:.2f})')\n",
    "    \n",
    "    # plot boxplot of PowerTransformer transformed feature\n",
    "    transformed_feature = pt.fit_transform(train_set[col][: , None])\n",
    "    skewness_transformed = skew(transformed_feature)\n",
    "    transformed_fliers = axes[i, 2].boxplot(transformed_feature, vert=False, whis=1.5)['fliers'][0].get_ydata()\n",
    "    axes[i, 2].set_title(f'Number of fliers: {len(transformed_fliers)}')\n",
    "    \n",
    "    # plot histogram of PowerTransformer transformed feature\n",
    "    axes[i, 3].set_title(f'Transformed {col} (Skewness: {skewness_transformed[0]})')\n",
    "    axes[i, 3].hist(transformed_feature, 50)\n",
    "\n",
    "# Adjust subplot spacing and display the figure\n",
    "plt.tight_layout()\n",
    "plt.show()"
   ]
  },
  {
   "cell_type": "code",
   "execution_count": null,
   "id": "4c13490f-dfee-483d-a571-43622a26fac3",
   "metadata": {},
   "outputs": [],
   "source": [
    "cols = ['Temperature[C]', 'Humidity[%]', 'TVOC[ppb]', 'Raw_H2', 'Raw_Ethanol','Pressure[hPa]', 'PM1.0', 'PM2.5', 'NC0.5', 'NC1.0', 'NC2.5']\n",
    "train_set2 = train_set.copy()\n",
    "for col in cols:\n",
    "    train_set2[col] = pt.fit_transform(train_set[col][: , None])"
   ]
  },
  {
   "cell_type": "code",
   "execution_count": null,
   "id": "e6bbc786-cf54-4365-9c7f-7e64b7385d18",
   "metadata": {},
   "outputs": [],
   "source": [
    "fig, axes = plt.subplots(2, 3, figsize=(12, 8))\n",
    "axes_flat = axes.flatten()\n",
    "\n",
    "cols = ['Temperature[C]', 'Humidity[%]', 'TVOC[ppb]', 'Raw_H2', 'Raw_Ethanol']\n",
    "for i, col in enumerate(cols):\n",
    "    ax = axes_flat[i]\n",
    "    ax.hist(train_set2[col], 50)\n",
    "    ax.set_title(col)"
   ]
  },
  {
   "cell_type": "code",
   "execution_count": null,
   "id": "b2e879f4-da2b-4ac0-bd61-0b6afce1c325",
   "metadata": {},
   "outputs": [],
   "source": [
    "fig, axes = plt.subplots(2, 3, figsize=(12, 8))\n",
    "axes_flat = axes.flatten()\n",
    "\n",
    "cols = ['Pressure[hPa]', 'PM1.0', 'PM2.5', 'NC0.5', 'NC1.0', 'NC2.5']\n",
    "for i, col in enumerate(cols):\n",
    "    ax = axes_flat[i]\n",
    "    ax.hist(train_set2[col], 50)\n",
    "    ax.set_title(col)"
   ]
  },
  {
   "cell_type": "code",
   "execution_count": null,
   "id": "f90036e1-2735-421b-a58f-78fdb7d4f3a1",
   "metadata": {},
   "outputs": [],
   "source": [
    "pt = PowerTransformer()\n",
    "\n",
    "cols = ['Temperature[C]', 'Humidity[%]', 'TVOC[ppb]' ,'eCO2[ppm]', 'Raw_H2', 'Raw_Ethanol']\n",
    "# Create figure with n_rows rows and 4 columns of subplots\n",
    "n_rows = len(cols)\n",
    "\n",
    "fig, axes = plt.subplots(n_rows, 4, figsize=(16, 4*n_rows))\n",
    "\n",
    "# iterate over numerical features and plot boxplots and histograms\n",
    "for i, col in enumerate(cols):\n",
    "    \n",
    "    # compute skewness of original feature\n",
    "    skewness_orig = skew(train_set[col])\n",
    "    \n",
    "    # plot boxplot of original feature\n",
    "    fliers = axes[i, 0].boxplot(train_set[col], vert=False, whis=2.5)['fliers'][0].get_ydata()\n",
    "    axes[i, 0].set_title(f'Number of fliers: {len(fliers)}')\n",
    "    \n",
    "    # plot histogram of original feature\n",
    "    axes[i, 1].hist(train_set[col], 50)\n",
    "    axes[i, 1].set_title(f'Histogram of {col} (Skewness: {skewness_orig:.2f})')\n",
    "    \n",
    "    # plot boxplot of PowerTransformer transformed feature\n",
    "    transformed_feature = pt.fit_transform(train_set[col][: , None])\n",
    "    skewness_transformed = skew(transformed_feature)\n",
    "    transformed_fliers = axes[i, 2].boxplot(transformed_feature, vert=False, whis=2.5)['fliers'][0].get_ydata()\n",
    "    axes[i, 2].set_title(f'Number of fliers: {len(transformed_fliers)}')\n",
    "    \n",
    "    # plot histogram of PowerTransformer transformed feature\n",
    "    axes[i, 3].set_title(f'Transformed {col} (Skewness: {skewness_transformed[0]})')\n",
    "    axes[i, 3].hist(transformed_feature, 50)\n",
    "\n",
    "# Adjust subplot spacing and display the figure\n",
    "plt.tight_layout()"
   ]
  },
  {
   "cell_type": "code",
   "execution_count": null,
   "id": "d1312617-3764-4d80-9b42-65ab73b2898c",
   "metadata": {},
   "outputs": [],
   "source": [
    "pt = PowerTransformer()\n",
    "\n",
    "cols = ['Pressure[hPa]', 'PM1.0', 'PM2.5', 'NC0.5', 'NC1.0', 'NC2.5']\n",
    "# Create figure with n_rows rows and 4 columns of subplots\n",
    "n_rows = len(cols)\n",
    "\n",
    "fig, axes = plt.subplots(n_rows, 4, figsize=(16, 4*n_rows))\n",
    "\n",
    "# iterate over numerical features and plot boxplots and histograms\n",
    "for i, col in enumerate(cols):\n",
    "\n",
    "    \n",
    "    # compute skewness of original feature\n",
    "    skewness_orig = skew(train_set[col])\n",
    "    \n",
    "    # plot boxplot of original feature\n",
    "    fliers = axes[i, 0].boxplot(train_set[col], vert=False, whis=3.5)['fliers'][0].get_ydata()\n",
    "    axes[i, 0].set_title(f'Number of fliers: {len(fliers)}')\n",
    "    \n",
    "    # plot histogram of original feature\n",
    "    axes[i, 1].hist(train_set[col], 50)\n",
    "    axes[i, 1].set_title(f'Histogram of {col} (Skewness: {skewness_orig:.2f})')\n",
    "    \n",
    "    # plot boxplot of PowerTransformer transformed feature\n",
    "    transformed_feature = pt.fit_transform(train_set[col][: , None])\n",
    "    skewness_transformed = skew(transformed_feature)\n",
    "    transformed_fliers = axes[i, 2].boxplot(transformed_feature, vert=False, whis=3.5)['fliers'][0].get_ydata()\n",
    "    axes[i, 2].set_title(f'Number of fliers: {len(transformed_fliers)}')\n",
    "    \n",
    "    # plot histogram of PowerTransformer transformed feature\n",
    "    axes[i, 3].set_title(f'Transformed {col} (Skewness: {skewness_transformed[0]})')\n",
    "    axes[i, 3].hist(transformed_feature, 50)\n",
    "\n",
    "# Adjust subplot spacing and display the figure\n",
    "plt.tight_layout()\n",
    "plt.show()"
   ]
  },
  {
   "cell_type": "code",
   "execution_count": null,
   "id": "c8bfbcb3-ac27-461a-af9a-837b493f1304",
   "metadata": {},
   "outputs": [],
   "source": [
    "cols = ['Temperature[C]', 'Humidity[%]', 'TVOC[ppb]', 'Raw_H2', 'Raw_Ethanol']\n",
    "desc = train_set2[cols].describe()\n",
    "Q1 = desc.loc['25%']\n",
    "Q3 = desc.loc['75%']\n",
    "IQR = Q3 - Q1\n",
    "lower_cap = Q1 - 2.5*IQR\n",
    "upper_cap = Q3 + 2.5*IQR\n",
    "\n",
    "flags = (train_set2[cols] < lower_cap) | (train_set2[cols] > upper_cap)\n",
    "flags.sum()"
   ]
  },
  {
   "cell_type": "code",
   "execution_count": null,
   "id": "845767bc-2d8d-464a-b391-81f2e92db38c",
   "metadata": {},
   "outputs": [],
   "source": [
    "flags.sum(1).astype(np.bool_).sum()"
   ]
  },
  {
   "cell_type": "code",
   "execution_count": null,
   "id": "89ca2b4f-bca5-41d3-9b1b-f8f35f209583",
   "metadata": {},
   "outputs": [],
   "source": [
    "train_set2 = train_set2[~flags.sum(1).astype(np.bool_)]\n",
    "train_set2"
   ]
  },
  {
   "cell_type": "code",
   "execution_count": null,
   "id": "cf431cb0-0441-4449-ae61-3cfecb3dc497",
   "metadata": {},
   "outputs": [],
   "source": [
    "flags = train_set2['PM1.0'] > 2\n",
    "flags.sum()"
   ]
  },
  {
   "cell_type": "code",
   "execution_count": null,
   "id": "6a074bf2-1776-48ac-927c-3805f4834584",
   "metadata": {},
   "outputs": [],
   "source": [
    "train_set2 = train_set2[~flags]\n",
    "train_set2"
   ]
  },
  {
   "cell_type": "code",
   "execution_count": null,
   "id": "045f7c97-351b-4533-9a7f-b92f4c2b0f68",
   "metadata": {},
   "outputs": [],
   "source": [
    "flags = train_set2['eCO2[ppm]'] > 5000\n",
    "flags.sum()"
   ]
  },
  {
   "cell_type": "code",
   "execution_count": null,
   "id": "2b497652-0ce5-4984-b801-375a0b92b0bd",
   "metadata": {},
   "outputs": [],
   "source": [
    "train_set2 = train_set2[~flags]\n",
    "train_set2"
   ]
  },
  {
   "cell_type": "markdown",
   "id": "a672dbaf-54e1-447a-9322-f1f1271d41d0",
   "metadata": {
    "jp-MarkdownHeadingCollapsed": true,
    "tags": []
   },
   "source": [
    "## **ReProcessing**"
   ]
  },
  {
   "cell_type": "code",
   "execution_count": null,
   "id": "fc5d6607-2116-4d53-92f9-220b6bbb70ce",
   "metadata": {},
   "outputs": [],
   "source": [
    "fig , ax = plt.subplots(5 , 3 , figsize=(18,18))\n",
    "ax_flat = ax.flatten()\n",
    "\n",
    "for i,col in enumerate(train_set2.columns):\n",
    "    ax = ax_flat[i]\n",
    "    sns.kdeplot(train_set2[col]  , color='r', ax=ax , fill=True)"
   ]
  },
  {
   "cell_type": "code",
   "execution_count": null,
   "id": "d770a403-65ab-480b-804d-670b951f3b15",
   "metadata": {},
   "outputs": [],
   "source": [
    "fig , ax = plt.subplots(5 , 3 , figsize=(18,30))\n",
    "ax_flat = ax.flatten()\n",
    "\n",
    "for i,col in enumerate(train_set2.columns[1:-1]):\n",
    "    ax = ax_flat[i]\n",
    "    sns.boxplot(train_set2[col] , ax=ax , color='crimson')\n",
    "    ax.set_title(col)"
   ]
  },
  {
   "cell_type": "code",
   "execution_count": null,
   "id": "fe00b00e-9def-4a11-b9b6-7f7cef66ad1b",
   "metadata": {},
   "outputs": [],
   "source": [
    "Cols = list(train_set2.columns)[1:]\n",
    "Cols.remove('Fire_Alarm')\n",
    "\n",
    "fig , ax = plt.subplots(5 , 3 , figsize=(16 , 30))\n",
    "ax_flat = ax.flatten()\n",
    "\n",
    "for i,col in enumerate(Cols):\n",
    "    ax = ax_flat[i]\n",
    "    sns.scatterplot(data = train_set2 , x=train_set2[col] , y=train_set2['Fire_Alarm'] , alpha=0.2 , ax=ax , c='r')"
   ]
  },
  {
   "cell_type": "code",
   "execution_count": null,
   "id": "fec7d5a3-7bf7-4612-8fde-f6e9d2691303",
   "metadata": {},
   "outputs": [],
   "source": [
    "plt.figure(figsize=(8,6))\n",
    "sns.scatterplot(data=train_set2 , x=train_set2.iloc[: , 4] , y=train_set2.iloc[: , 5]  , hue=train_set2['Fire_Alarm']);"
   ]
  },
  {
   "cell_type": "code",
   "execution_count": null,
   "id": "c3855870-e3a9-4cc0-9312-8199cd89e83b",
   "metadata": {},
   "outputs": [],
   "source": [
    "plt.figure(figsize=(8,6))\n",
    "sns.scatterplot(data=train_set2 , x=train_set2.iloc[: , 3] , y=train_set2.iloc[: , 5] , alpha=0.2 ,  hue=train_set2['Fire_Alarm']);"
   ]
  },
  {
   "cell_type": "code",
   "execution_count": null,
   "id": "01d494dc-f170-470d-add3-5eb16983a556",
   "metadata": {},
   "outputs": [],
   "source": [
    "plt.figure(figsize=(8,6))\n",
    "sns.scatterplot(data=train_set2 , x=train_set2.iloc[: , 6] , y=train_set2.iloc[: , -2]  ,  hue=train_set2['Fire_Alarm']);"
   ]
  },
  {
   "cell_type": "code",
   "execution_count": null,
   "id": "96b3f980-d649-4d90-896e-8c59d483842e",
   "metadata": {},
   "outputs": [],
   "source": [
    "plt.figure(figsize=(8,6))\n",
    "sns.scatterplot(data=train_set2 , x=train_set2.iloc[: , 2] , alpha=0.2 ,  y=train_set2.iloc[: , 7],  hue=train_set2['Fire_Alarm']);"
   ]
  },
  {
   "cell_type": "code",
   "execution_count": null,
   "id": "2b0791b4-08bd-4d36-bd3d-ed7171554e7c",
   "metadata": {},
   "outputs": [],
   "source": [
    "plt.figure(figsize=(8,6))\n",
    "sns.scatterplot(data=train_set2 , x=train_set2.iloc[: , 3] , y=train_set2.iloc[: , -7]  ,  hue=train_set2['Fire_Alarm']);"
   ]
  },
  {
   "cell_type": "code",
   "execution_count": null,
   "id": "aaee06f8-b199-4537-b81d-66873afa8086",
   "metadata": {},
   "outputs": [],
   "source": [
    "Cols = list(train_set2.columns)[1:]\n",
    "Cols.remove('Fire_Alarm')\n",
    "\n",
    "fig , ax = plt.subplots(5 , 3 , figsize=(16 , 30))\n",
    "ax_flat = ax.flatten()\n",
    "\n",
    "for i,col in enumerate(Cols):\n",
    "    ax = ax_flat[i]\n",
    "    sns.violinplot(data = train_set2 , x='Fire_Alarm' , y=train_set2[col] , ax=ax)\n",
    "    ax.set_title(col)"
   ]
  },
  {
   "cell_type": "markdown",
   "id": "8173c48d-91ce-4256-a4fa-cc740689f657",
   "metadata": {
    "jp-MarkdownHeadingCollapsed": true,
    "tags": []
   },
   "source": [
    "## **Data/Feature Reduction**"
   ]
  },
  {
   "cell_type": "code",
   "execution_count": null,
   "id": "3580c06c-9c21-4df4-86fa-ae46e2399d61",
   "metadata": {},
   "outputs": [],
   "source": [
    "corr = train_set2.corr()\n",
    "corr[['Fire_Alarm']].abs().sort_values(by='Fire_Alarm')"
   ]
  },
  {
   "cell_type": "code",
   "execution_count": null,
   "id": "0208b784-bc98-4bcf-a48f-c09301d444ed",
   "metadata": {},
   "outputs": [],
   "source": [
    "plt.figure(figsize=(16, 16))\n",
    "sns.heatmap(corr, annot=True , cmap='viridis')"
   ]
  },
  {
   "cell_type": "code",
   "execution_count": null,
   "id": "b04f9309-84b2-418d-8204-e71f2c14fd3a",
   "metadata": {},
   "outputs": [],
   "source": [
    "train_set2.drop(['NC2.5','NC1.0','PM2.5','NC0.5'], axis=1, inplace=True)\n",
    "train_set2"
   ]
  },
  {
   "cell_type": "markdown",
   "id": "8e624ca7-dfd2-48da-ac8d-d188589006a1",
   "metadata": {
    "jp-MarkdownHeadingCollapsed": true,
    "tags": []
   },
   "source": [
    "## **Data Normalization**"
   ]
  },
  {
   "cell_type": "code",
   "execution_count": null,
   "id": "506dd552-fd5c-445d-9ceb-374c6a5b8f88",
   "metadata": {},
   "outputs": [],
   "source": [
    "normz = MinMaxScaler()\n",
    "train_set2.iloc[: , 1:] = normz.fit_transform(train_set2.iloc[: , 1:])\n",
    "train_set2"
   ]
  },
  {
   "cell_type": "code",
   "execution_count": null,
   "id": "6aa2978c-e638-4d04-ab8d-5b259b6a95ec",
   "metadata": {},
   "outputs": [],
   "source": [
    "fig, axes = plt.subplots(4, 3, figsize=(16, 18))\n",
    "axes_flat = axes.flatten()\n",
    "\n",
    "for i, col in enumerate([train_set2.columns][0]):\n",
    "    ax = axes_flat[i]\n",
    "    ax.hist(train_set2.loc[:, col], 50)\n",
    "    ax.set_title(col)"
   ]
  },
  {
   "cell_type": "markdown",
   "id": "53c0ff51-47ea-4fbc-a548-17b38b937b43",
   "metadata": {
    "jp-MarkdownHeadingCollapsed": true,
    "tags": []
   },
   "source": [
    "### **Standardization**"
   ]
  },
  {
   "cell_type": "code",
   "execution_count": null,
   "id": "024f8dfe-2cdb-49b7-875f-bc271135c75d",
   "metadata": {},
   "outputs": [],
   "source": []
  },
  {
   "cell_type": "markdown",
   "id": "e01e40a5-b0d0-43f4-91bd-6ec8c0478a12",
   "metadata": {},
   "source": [
    "## **Model Selection**"
   ]
  },
  {
   "cell_type": "code",
   "execution_count": null,
   "id": "19752b53-51fe-48bc-8e77-b77b03dcb410",
   "metadata": {},
   "outputs": [],
   "source": []
  }
 ],
 "metadata": {
  "kernelspec": {
   "display_name": "Python 3",
   "language": "python",
   "name": "python3"
  },
  "language_info": {
   "codemirror_mode": {
    "name": "ipython",
    "version": 3
   },
   "file_extension": ".py",
   "mimetype": "text/x-python",
   "name": "python",
   "nbconvert_exporter": "python",
   "pygments_lexer": "ipython3",
   "version": "3.7.6"
  }
 },
 "nbformat": 4,
 "nbformat_minor": 5
}
